{
  "nbformat": 4,
  "nbformat_minor": 0,
  "metadata": {
    "colab": {
      "name": "ml_project1.ipynb",
      "provenance": [],
      "collapsed_sections": [],
      "include_colab_link": true
    },
    "kernelspec": {
      "display_name": "Python 3",
      "name": "python3"
    },
    "language_info": {
      "name": "python"
    }
  },
  "cells": [
    {
      "cell_type": "markdown",
      "metadata": {
        "id": "view-in-github",
        "colab_type": "text"
      },
      "source": [
        "<a href=\"https://colab.research.google.com/github/sarikamohan08/prediction-of-election-results/blob/main/Code/ml_project1.ipynb\" target=\"_parent\"><img src=\"https://colab.research.google.com/assets/colab-badge.svg\" alt=\"Open In Colab\"/></a>"
      ]
    },
    {
      "cell_type": "markdown",
      "metadata": {
        "id": "7JYZtCDsNfzt"
      },
      "source": [
        "**MACHINE LEARNING PROJECT CAT 2**\n",
        "\n",
        "\n",
        "DATE: 26-04-2021\n",
        "\n",
        "\n"
      ]
    },
    {
      "cell_type": "markdown",
      "metadata": {
        "id": "pBGe6yrFmZxt"
      },
      "source": [
        "**IMPORTING THE LIBRARIES**\n",
        "\n"
      ]
    },
    {
      "cell_type": "code",
      "metadata": {
        "id": "u8YJAk4NdM-c"
      },
      "source": [
        "import pandas as pd\n",
        "import numpy as np\n",
        "import nltk\n",
        "from nltk.tokenize import word_tokenize\n",
        "from nltk import pos_tag\n",
        "from wordcloud import WordCloud,STOPWORDS\n",
        "from nltk.stem import WordNetLemmatizer\n",
        "from sklearn.preprocessing import LabelEncoder\n",
        "from collections import defaultdict\n",
        "from nltk.corpus import wordnet as wn\n",
        "from sklearn.feature_extraction.text import TfidfVectorizer\n",
        "from sklearn import model_selection, naive_bayes, svm\n",
        "from sklearn.metrics import accuracy_score\n",
        "import matplotlib.pyplot as plt\n",
        "import seaborn as sns\n",
        "import matplotlib.pyplot  as plt\n",
        "from sklearn.feature_extraction.text import TfidfVectorizer \n",
        "from sklearn import model_selection, naive_bayes, svm\n",
        "from sklearn.metrics import accuracy_score\n",
        "from  sklearn import metrics\n",
        "from sklearn.metrics import accuracy_score"
      ],
      "execution_count": null,
      "outputs": []
    },
    {
      "cell_type": "markdown",
      "metadata": {
        "id": "vTtN3RWlmqaj"
      },
      "source": [
        "**DOWNLOADING THE NLP PACKAGES**\n"
      ]
    },
    {
      "cell_type": "code",
      "metadata": {
        "colab": {
          "base_uri": "https://localhost:8080/"
        },
        "id": "9Md376a2d8G5",
        "outputId": "f6eafb1b-b279-4da4-9600-8a55e6cc62e7"
      },
      "source": [
        "\n",
        "nltk.download('punkt')\n",
        "nltk.download('wordnet')\n",
        "nltk.download('averaged_perceptron_tagger')\n",
        "nltk.download('stopwords')"
      ],
      "execution_count": null,
      "outputs": [
        {
          "output_type": "stream",
          "text": [
            "[nltk_data] Downloading package punkt to /root/nltk_data...\n",
            "[nltk_data]   Unzipping tokenizers/punkt.zip.\n",
            "[nltk_data] Downloading package wordnet to /root/nltk_data...\n",
            "[nltk_data]   Unzipping corpora/wordnet.zip.\n",
            "[nltk_data] Downloading package averaged_perceptron_tagger to\n",
            "[nltk_data]     /root/nltk_data...\n",
            "[nltk_data]   Unzipping taggers/averaged_perceptron_tagger.zip.\n",
            "[nltk_data] Downloading package stopwords to /root/nltk_data...\n",
            "[nltk_data]   Unzipping corpora/stopwords.zip.\n"
          ],
          "name": "stdout"
        },
        {
          "output_type": "execute_result",
          "data": {
            "text/plain": [
              "True"
            ]
          },
          "metadata": {
            "tags": []
          },
          "execution_count": 3
        }
      ]
    },
    {
      "cell_type": "markdown",
      "metadata": {
        "id": "JXkeJCVLm5M7"
      },
      "source": [
        "**FUNCTIONS**"
      ]
    },
    {
      "cell_type": "markdown",
      "metadata": {
        "id": "0DwExT-4nAKB"
      },
      "source": [
        "**WORD CLOUD**\n"
      ]
    },
    {
      "cell_type": "code",
      "metadata": {
        "id": "9Xzn1wNL1iwS"
      },
      "source": [
        "def create_cloud(data):\n",
        "  cloud  = WordCloud(background_color ='white',max_words= 100,stopwords=set(STOPWORDS))\n",
        "  cloud.generate(data)\n",
        "  plt.imshow(cloud)\n",
        "  plt.show()"
      ],
      "execution_count": null,
      "outputs": []
    },
    {
      "cell_type": "markdown",
      "metadata": {
        "id": "asH2Fj9ynDNL"
      },
      "source": [
        "**REMOVING THE PUNCTUATION**"
      ]
    },
    {
      "cell_type": "code",
      "metadata": {
        "id": "7VXcbylb2fnH"
      },
      "source": [
        "def remove_punctuation(text):\n",
        "    final = \"\".join(u for u in text if u not in (\"?\", \".\", \";\", \":\",  \"!\",'\"',\",\",\"-\",\"\\n\",\"#\",'@',\"www\",\"//\",\"http\"))\n",
        "    return final\n"
      ],
      "execution_count": null,
      "outputs": []
    },
    {
      "cell_type": "markdown",
      "metadata": {
        "id": "X9JE_rkqnNj1"
      },
      "source": [
        "**DATA PREPROCESSING**"
      ]
    },
    {
      "cell_type": "code",
      "metadata": {
        "id": "hzVpnUqWlHFA"
      },
      "source": [
        "class preprocess:\n",
        "  def Tokenize(self,datacolumn):\n",
        "    list =[]\n",
        "    for i in datacolumn:\n",
        "      i = word_tokenize(i)\n",
        "      list.append(i)\n",
        "\n",
        "    return list\n",
        "     \n",
        "  def remove_stopwords(self,datacolumn):\n",
        "    Stopwords = set(STOPWORDS)\n",
        "    list=[]\n",
        "    for i in datacolumn:\n",
        "      i = [x for x in i if x not in Stopwords]\n",
        "      list.append(i)\n",
        "    #print(i)\n",
        "    return list\n",
        "  \n",
        "  def lemmatization(self,datacolumn):\n",
        "    lemmatizer = WordNetLemmatizer()\n",
        "    list=[]\n",
        "    for i in datacolumn:\n",
        "      list2=[]\n",
        "      for tokens in i:\n",
        "        tokens=lemmatizer.lemmatize(tokens)\n",
        "        list2.append(tokens)\n",
        "      list.append(list2)\n",
        "    return list"
      ],
      "execution_count": null,
      "outputs": []
    },
    {
      "cell_type": "markdown",
      "metadata": {
        "id": "mbJaoBw7pSet"
      },
      "source": [
        "**CHANGING LIST TO SENTENCE**"
      ]
    },
    {
      "cell_type": "code",
      "metadata": {
        "id": "Dg5-8jRQpLEf"
      },
      "source": [
        "def to_string(datacolumn):\n",
        "  for i in range(len(datacolumn)):\n",
        "    datacolumn[i] = ' '.join([str(elem) for elem in datacolumn[i]])\n",
        "  return datacolumn"
      ],
      "execution_count": null,
      "outputs": []
    },
    {
      "cell_type": "markdown",
      "metadata": {
        "id": "N1bCXZcWpaDY"
      },
      "source": [
        "**ADMK DATA**"
      ]
    },
    {
      "cell_type": "markdown",
      "metadata": {
        "id": "5bv6e4VDnawZ"
      },
      "source": [
        "**IMPORTING DATA**"
      ]
    },
    {
      "cell_type": "code",
      "metadata": {
        "colab": {
          "base_uri": "https://localhost:8080/",
          "height": 196
        },
        "id": "wwksMtT1dRtu",
        "outputId": "9a63bec1-58af-445c-ef7b-dcd0b3540cc4"
      },
      "source": [
        "admk_data = pd.read_csv(\"/content/admk1.csv\",encoding ='utf-8')\n",
        "admk_data.head()"
      ],
      "execution_count": null,
      "outputs": [
        {
          "output_type": "execute_result",
          "data": {
            "text/html": [
              "<div>\n",
              "<style scoped>\n",
              "    .dataframe tbody tr th:only-of-type {\n",
              "        vertical-align: middle;\n",
              "    }\n",
              "\n",
              "    .dataframe tbody tr th {\n",
              "        vertical-align: top;\n",
              "    }\n",
              "\n",
              "    .dataframe thead th {\n",
              "        text-align: right;\n",
              "    }\n",
              "</style>\n",
              "<table border=\"1\" class=\"dataframe\">\n",
              "  <thead>\n",
              "    <tr style=\"text-align: right;\">\n",
              "      <th></th>\n",
              "      <th>text</th>\n",
              "      <th>labels</th>\n",
              "    </tr>\n",
              "  </thead>\n",
              "  <tbody>\n",
              "    <tr>\n",
              "      <th>0</th>\n",
              "      <td>\\n\\nAs to preclude the DMK, the AIADMK, the DM...</td>\n",
              "      <td>1</td>\n",
              "    </tr>\n",
              "    <tr>\n",
              "      <th>1</th>\n",
              "      <td>\\nOver the past 10 years, the people dissatisf...</td>\n",
              "      <td>0</td>\n",
              "    </tr>\n",
              "    <tr>\n",
              "      <th>2</th>\n",
              "      <td>\\n\\nPersonally speaking on the phone in the ca...</td>\n",
              "      <td>0</td>\n",
              "    </tr>\n",
              "    <tr>\n",
              "      <th>3</th>\n",
              "      <td>\\n\\nTo keep safe from TN rowdism, corruption a...</td>\n",
              "      <td>1</td>\n",
              "    </tr>\n",
              "    <tr>\n",
              "      <th>4</th>\n",
              "      <td>\\n\\nDMK-AIADMK state autonomy until today did ...</td>\n",
              "      <td>0</td>\n",
              "    </tr>\n",
              "  </tbody>\n",
              "</table>\n",
              "</div>"
            ],
            "text/plain": [
              "                                                text  labels\n",
              "0  \\n\\nAs to preclude the DMK, the AIADMK, the DM...       1\n",
              "1  \\nOver the past 10 years, the people dissatisf...       0\n",
              "2  \\n\\nPersonally speaking on the phone in the ca...       0\n",
              "3  \\n\\nTo keep safe from TN rowdism, corruption a...       1\n",
              "4  \\n\\nDMK-AIADMK state autonomy until today did ...       0"
            ]
          },
          "metadata": {
            "tags": []
          },
          "execution_count": 8
        }
      ]
    },
    {
      "cell_type": "markdown",
      "metadata": {
        "id": "IB53iPcvnnbB"
      },
      "source": [
        "**CREATING THE WORD CLOUD**"
      ]
    },
    {
      "cell_type": "code",
      "metadata": {
        "colab": {
          "base_uri": "https://localhost:8080/",
          "height": 198
        },
        "id": "egkkywt89DuN",
        "outputId": "78db07b3-d67d-4330-a82e-4fa9713a70ff"
      },
      "source": [
        "admk_data1  = open('/content/admk.txt','r').read()\n",
        "text=admk_data1\n",
        "wordcloud = WordCloud(max_font_size=50, max_words=100, background_color=\"white\").generate(text)\n",
        "plt.figure()\n",
        "plt.imshow(wordcloud, interpolation=\"bilinear\")\n",
        "plt.axis(\"off\")\n",
        "plt.show()"
      ],
      "execution_count": null,
      "outputs": [
        {
          "output_type": "display_data",
          "data": {
            "image/png": "[encoded data removed]",
            "text/plain": [
              "<Figure size 432x288 with 1 Axes>"
            ]
          },
          "metadata": {
            "tags": [],
            "needs_background": "light"
          }
        }
      ]
    },
    {
      "cell_type": "markdown",
      "metadata": {
        "id": "wxWzt2Znn5dO"
      },
      "source": [
        "**REMOVING THE EMPTY SPACE**"
      ]
    },
    {
      "cell_type": "code",
      "metadata": {
        "id": "39304MBj2Y-1"
      },
      "source": [
        "admk_data['text'].dropna(inplace=True)"
      ],
      "execution_count": null,
      "outputs": []
    },
    {
      "cell_type": "markdown",
      "metadata": {
        "id": "PVuKzUWAn-Hi"
      },
      "source": [
        "**UPPERCASE TO LOWER CASE**"
      ]
    },
    {
      "cell_type": "code",
      "metadata": {
        "id": "MRMIV98e2cHS"
      },
      "source": [
        "admk_data['text'] = [entry.lower() for entry in admk_data['text']]"
      ],
      "execution_count": null,
      "outputs": []
    },
    {
      "cell_type": "markdown",
      "metadata": {
        "id": "dHbQ1dYuoHMp"
      },
      "source": [
        "**REMOVING THE PUNCTUATION**"
      ]
    },
    {
      "cell_type": "code",
      "metadata": {
        "colab": {
          "base_uri": "https://localhost:8080/",
          "height": 137
        },
        "id": "37DJ9sMN2isM",
        "outputId": "b19b7b06-4164-4421-d782-e7a482b8b101"
      },
      "source": [
        "admk_data['text'] = admk_data['text'].apply(remove_punctuation)\n",
        "admk_data.head(3)"
      ],
      "execution_count": null,
      "outputs": [
        {
          "output_type": "execute_result",
          "data": {
            "text/html": [
              "<div>\n",
              "<style scoped>\n",
              "    .dataframe tbody tr th:only-of-type {\n",
              "        vertical-align: middle;\n",
              "    }\n",
              "\n",
              "    .dataframe tbody tr th {\n",
              "        vertical-align: top;\n",
              "    }\n",
              "\n",
              "    .dataframe thead th {\n",
              "        text-align: right;\n",
              "    }\n",
              "</style>\n",
              "<table border=\"1\" class=\"dataframe\">\n",
              "  <thead>\n",
              "    <tr style=\"text-align: right;\">\n",
              "      <th></th>\n",
              "      <th>text</th>\n",
              "      <th>labels</th>\n",
              "    </tr>\n",
              "  </thead>\n",
              "  <tbody>\n",
              "    <tr>\n",
              "      <th>0</th>\n",
              "      <td>as to preclude the dmk the aiadmk the dmk and ...</td>\n",
              "      <td>1</td>\n",
              "    </tr>\n",
              "    <tr>\n",
              "      <th>1</th>\n",
              "      <td>over the past 10 years the people dissatisfied...</td>\n",
              "      <td>0</td>\n",
              "    </tr>\n",
              "    <tr>\n",
              "      <th>2</th>\n",
              "      <td>personally speaking on the phone in the case o...</td>\n",
              "      <td>0</td>\n",
              "    </tr>\n",
              "  </tbody>\n",
              "</table>\n",
              "</div>"
            ],
            "text/plain": [
              "                                                text  labels\n",
              "0  as to preclude the dmk the aiadmk the dmk and ...       1\n",
              "1  over the past 10 years the people dissatisfied...       0\n",
              "2  personally speaking on the phone in the case o...       0"
            ]
          },
          "metadata": {
            "tags": []
          },
          "execution_count": 12
        }
      ]
    },
    {
      "cell_type": "markdown",
      "metadata": {
        "id": "AW9z-N3OoZKY"
      },
      "source": [
        "**TOKENIREZATION, LEMMATIZATION, REMOVING STOPWORDS**\n",
        "\n",
        "\n",
        "\n"
      ]
    },
    {
      "cell_type": "code",
      "metadata": {
        "colab": {
          "base_uri": "https://localhost:8080/",
          "height": 196
        },
        "id": "TAaq7cdSNBA8",
        "outputId": "e02e349b-bce5-4eae-9427-539552869e1a"
      },
      "source": [
        "token = preprocess()\n",
        "list1=token.Tokenize(admk_data['text'])\n",
        "#list1=np.array(list1)\n",
        "list1=token.remove_stopwords(list1)\n",
        "list1 = token.lemmatization(list1)\n",
        "df = pd.DataFrame(data=[list1],index=['text'])\n",
        "df=df.T\n",
        "df.head()"
      ],
      "execution_count": null,
      "outputs": [
        {
          "output_type": "execute_result",
          "data": {
            "text/html": [
              "<div>\n",
              "<style scoped>\n",
              "    .dataframe tbody tr th:only-of-type {\n",
              "        vertical-align: middle;\n",
              "    }\n",
              "\n",
              "    .dataframe tbody tr th {\n",
              "        vertical-align: top;\n",
              "    }\n",
              "\n",
              "    .dataframe thead th {\n",
              "        text-align: right;\n",
              "    }\n",
              "</style>\n",
              "<table border=\"1\" class=\"dataframe\">\n",
              "  <thead>\n",
              "    <tr style=\"text-align: right;\">\n",
              "      <th></th>\n",
              "      <th>text</th>\n",
              "    </tr>\n",
              "  </thead>\n",
              "  <tbody>\n",
              "    <tr>\n",
              "      <th>0</th>\n",
              "      <td>[preclude, dmk, aiadmk, dmk, aiadmk, preclude,...</td>\n",
              "    </tr>\n",
              "    <tr>\n",
              "      <th>1</th>\n",
              "      <td>[past, 10, year, people, dissatisfied, aiadmk,...</td>\n",
              "    </tr>\n",
              "    <tr>\n",
              "      <th>2</th>\n",
              "      <td>[personally, speaking, phone, case, reservatio...</td>\n",
              "    </tr>\n",
              "    <tr>\n",
              "      <th>3</th>\n",
              "      <td>[keep, safe, tn, rowdism, corruption, goondaism]</td>\n",
              "    </tr>\n",
              "    <tr>\n",
              "      <th>4</th>\n",
              "      <td>[dmkaiadmk, state, autonomy, today]</td>\n",
              "    </tr>\n",
              "  </tbody>\n",
              "</table>\n",
              "</div>"
            ],
            "text/plain": [
              "                                                text\n",
              "0  [preclude, dmk, aiadmk, dmk, aiadmk, preclude,...\n",
              "1  [past, 10, year, people, dissatisfied, aiadmk,...\n",
              "2  [personally, speaking, phone, case, reservatio...\n",
              "3   [keep, safe, tn, rowdism, corruption, goondaism]\n",
              "4                [dmkaiadmk, state, autonomy, today]"
            ]
          },
          "metadata": {
            "tags": []
          },
          "execution_count": 13
        }
      ]
    },
    {
      "cell_type": "code",
      "metadata": {
        "id": "-hHjGErSW6b_"
      },
      "source": [
        "df1 = df.copy()"
      ],
      "execution_count": null,
      "outputs": []
    },
    {
      "cell_type": "markdown",
      "metadata": {
        "id": "qO2yk5KSoqbR"
      },
      "source": [
        "**DATA VISUALIZATION**"
      ]
    },
    {
      "cell_type": "code",
      "metadata": {
        "id": "bJIozqc0owPm"
      },
      "source": [
        "positive = admk_data[admk_data['labels'] == 1]\n",
        "negative = admk_data[admk_data['labels'] == 0]"
      ],
      "execution_count": null,
      "outputs": []
    },
    {
      "cell_type": "code",
      "metadata": {
        "colab": {
          "base_uri": "https://localhost:8080/",
          "height": 349
        },
        "id": "1RPyLT_9lN_c",
        "outputId": "be27e25f-ff5a-4af6-91d3-2320d72c50c6"
      },
      "source": [
        "sns.countplot(admk_data[\"labels\"])"
      ],
      "execution_count": null,
      "outputs": [
        {
          "output_type": "stream",
          "text": [
            "/usr/local/lib/python3.7/dist-packages/seaborn/_decorators.py:43: FutureWarning: Pass the following variable as a keyword arg: x. From version 0.12, the only valid positional argument will be `data`, and passing other arguments without an explicit keyword will result in an error or misinterpretation.\n",
            "  FutureWarning\n"
          ],
          "name": "stderr"
        },
        {
          "output_type": "execute_result",
          "data": {
            "text/plain": [
              "<matplotlib.axes._subplots.AxesSubplot at 0x7f0196a24e50>"
            ]
          },
          "metadata": {
            "tags": []
          },
          "execution_count": 16
        },
        {
          "output_type": "display_data",
          "data": {
            "image/png": "[encoded data removed]",
            "text/plain": [
              "<Figure size 432x288 with 1 Axes>"
            ]
          },
          "metadata": {
            "tags": [],
            "needs_background": "light"
          }
        }
      ]
    },
    {
      "cell_type": "code",
      "metadata": {
        "colab": {
          "base_uri": "https://localhost:8080/",
          "height": 196
        },
        "id": "EU-CrWI6L8AK",
        "outputId": "16304250-63e9-4cb9-f92f-bbce94206a93"
      },
      "source": [
        "admk_data.head()"
      ],
      "execution_count": null,
      "outputs": [
        {
          "output_type": "execute_result",
          "data": {
            "text/html": [
              "<div>\n",
              "<style scoped>\n",
              "    .dataframe tbody tr th:only-of-type {\n",
              "        vertical-align: middle;\n",
              "    }\n",
              "\n",
              "    .dataframe tbody tr th {\n",
              "        vertical-align: top;\n",
              "    }\n",
              "\n",
              "    .dataframe thead th {\n",
              "        text-align: right;\n",
              "    }\n",
              "</style>\n",
              "<table border=\"1\" class=\"dataframe\">\n",
              "  <thead>\n",
              "    <tr style=\"text-align: right;\">\n",
              "      <th></th>\n",
              "      <th>text</th>\n",
              "      <th>labels</th>\n",
              "    </tr>\n",
              "  </thead>\n",
              "  <tbody>\n",
              "    <tr>\n",
              "      <th>0</th>\n",
              "      <td>as to preclude the dmk the aiadmk the dmk and ...</td>\n",
              "      <td>1</td>\n",
              "    </tr>\n",
              "    <tr>\n",
              "      <th>1</th>\n",
              "      <td>over the past 10 years the people dissatisfied...</td>\n",
              "      <td>0</td>\n",
              "    </tr>\n",
              "    <tr>\n",
              "      <th>2</th>\n",
              "      <td>personally speaking on the phone in the case o...</td>\n",
              "      <td>0</td>\n",
              "    </tr>\n",
              "    <tr>\n",
              "      <th>3</th>\n",
              "      <td>to keep safe from tn rowdism corruption and go...</td>\n",
              "      <td>1</td>\n",
              "    </tr>\n",
              "    <tr>\n",
              "      <th>4</th>\n",
              "      <td>dmkaiadmk state autonomy until today did what</td>\n",
              "      <td>0</td>\n",
              "    </tr>\n",
              "  </tbody>\n",
              "</table>\n",
              "</div>"
            ],
            "text/plain": [
              "                                                text  labels\n",
              "0  as to preclude the dmk the aiadmk the dmk and ...       1\n",
              "1  over the past 10 years the people dissatisfied...       0\n",
              "2  personally speaking on the phone in the case o...       0\n",
              "3  to keep safe from tn rowdism corruption and go...       1\n",
              "4      dmkaiadmk state autonomy until today did what       0"
            ]
          },
          "metadata": {
            "tags": []
          },
          "execution_count": 17
        }
      ]
    },
    {
      "cell_type": "code",
      "metadata": {
        "colab": {
          "base_uri": "https://localhost:8080/",
          "height": 196
        },
        "id": "v-8uOio0X7nX",
        "outputId": "77118adf-3f48-4135-f0b5-ce4a05b4d172"
      },
      "source": [
        "df1.head()"
      ],
      "execution_count": null,
      "outputs": [
        {
          "output_type": "execute_result",
          "data": {
            "text/html": [
              "<div>\n",
              "<style scoped>\n",
              "    .dataframe tbody tr th:only-of-type {\n",
              "        vertical-align: middle;\n",
              "    }\n",
              "\n",
              "    .dataframe tbody tr th {\n",
              "        vertical-align: top;\n",
              "    }\n",
              "\n",
              "    .dataframe thead th {\n",
              "        text-align: right;\n",
              "    }\n",
              "</style>\n",
              "<table border=\"1\" class=\"dataframe\">\n",
              "  <thead>\n",
              "    <tr style=\"text-align: right;\">\n",
              "      <th></th>\n",
              "      <th>text</th>\n",
              "    </tr>\n",
              "  </thead>\n",
              "  <tbody>\n",
              "    <tr>\n",
              "      <th>0</th>\n",
              "      <td>[preclude, dmk, aiadmk, dmk, aiadmk, preclude,...</td>\n",
              "    </tr>\n",
              "    <tr>\n",
              "      <th>1</th>\n",
              "      <td>[past, 10, year, people, dissatisfied, aiadmk,...</td>\n",
              "    </tr>\n",
              "    <tr>\n",
              "      <th>2</th>\n",
              "      <td>[personally, speaking, phone, case, reservatio...</td>\n",
              "    </tr>\n",
              "    <tr>\n",
              "      <th>3</th>\n",
              "      <td>[keep, safe, tn, rowdism, corruption, goondaism]</td>\n",
              "    </tr>\n",
              "    <tr>\n",
              "      <th>4</th>\n",
              "      <td>[dmkaiadmk, state, autonomy, today]</td>\n",
              "    </tr>\n",
              "  </tbody>\n",
              "</table>\n",
              "</div>"
            ],
            "text/plain": [
              "                                                text\n",
              "0  [preclude, dmk, aiadmk, dmk, aiadmk, preclude,...\n",
              "1  [past, 10, year, people, dissatisfied, aiadmk,...\n",
              "2  [personally, speaking, phone, case, reservatio...\n",
              "3   [keep, safe, tn, rowdism, corruption, goondaism]\n",
              "4                [dmkaiadmk, state, autonomy, today]"
            ]
          },
          "metadata": {
            "tags": []
          },
          "execution_count": 18
        }
      ]
    },
    {
      "cell_type": "markdown",
      "metadata": {
        "id": "Sgv2DERIo1Rv"
      },
      "source": [
        "**changing the list to sentence**"
      ]
    },
    {
      "cell_type": "code",
      "metadata": {
        "id": "8D-zWV24YTEC"
      },
      "source": [
        "df1['text'] = to_string(df1['text'])"
      ],
      "execution_count": null,
      "outputs": []
    },
    {
      "cell_type": "code",
      "metadata": {
        "colab": {
          "base_uri": "https://localhost:8080/",
          "height": 196
        },
        "id": "j-1GtB501nSq",
        "outputId": "9e5f8e1b-b815-4e8c-c01e-13b7ee5dbc85"
      },
      "source": [
        "df1.head()"
      ],
      "execution_count": null,
      "outputs": [
        {
          "output_type": "execute_result",
          "data": {
            "text/html": [
              "<div>\n",
              "<style scoped>\n",
              "    .dataframe tbody tr th:only-of-type {\n",
              "        vertical-align: middle;\n",
              "    }\n",
              "\n",
              "    .dataframe tbody tr th {\n",
              "        vertical-align: top;\n",
              "    }\n",
              "\n",
              "    .dataframe thead th {\n",
              "        text-align: right;\n",
              "    }\n",
              "</style>\n",
              "<table border=\"1\" class=\"dataframe\">\n",
              "  <thead>\n",
              "    <tr style=\"text-align: right;\">\n",
              "      <th></th>\n",
              "      <th>text</th>\n",
              "    </tr>\n",
              "  </thead>\n",
              "  <tbody>\n",
              "    <tr>\n",
              "      <th>0</th>\n",
              "      <td>preclude dmk aiadmk dmk aiadmk preclude people...</td>\n",
              "    </tr>\n",
              "    <tr>\n",
              "      <th>1</th>\n",
              "      <td>past 10 year people dissatisfied aiadmk regime</td>\n",
              "    </tr>\n",
              "    <tr>\n",
              "      <th>2</th>\n",
              "      <td>personally speaking phone case reservation cm ...</td>\n",
              "    </tr>\n",
              "    <tr>\n",
              "      <th>3</th>\n",
              "      <td>keep safe tn rowdism corruption goondaism</td>\n",
              "    </tr>\n",
              "    <tr>\n",
              "      <th>4</th>\n",
              "      <td>dmkaiadmk state autonomy today</td>\n",
              "    </tr>\n",
              "  </tbody>\n",
              "</table>\n",
              "</div>"
            ],
            "text/plain": [
              "                                                text\n",
              "0  preclude dmk aiadmk dmk aiadmk preclude people...\n",
              "1     past 10 year people dissatisfied aiadmk regime\n",
              "2  personally speaking phone case reservation cm ...\n",
              "3          keep safe tn rowdism corruption goondaism\n",
              "4                     dmkaiadmk state autonomy today"
            ]
          },
          "metadata": {
            "tags": []
          },
          "execution_count": 20
        }
      ]
    },
    {
      "cell_type": "markdown",
      "metadata": {
        "id": "KV3WxRTcTOFF"
      },
      "source": [
        "**MODEL BUILDING**"
      ]
    },
    {
      "cell_type": "markdown",
      "metadata": {
        "id": "FIM3Mh3RTXpW"
      },
      "source": [
        "**TRAIN TEST SPLIT**"
      ]
    },
    {
      "cell_type": "code",
      "metadata": {
        "id": "1DkaNMEie-pY"
      },
      "source": [
        "Train_X, Test_X, Train_Y, Test_Y = model_selection.train_test_split(df1[\"text\"],admk_data['labels'],test_size=0.3,random_state=40)"
      ],
      "execution_count": null,
      "outputs": []
    },
    {
      "cell_type": "markdown",
      "metadata": {
        "id": "88yvCKt14OU3"
      },
      "source": [
        "\n",
        "**VECTORIZATION**"
      ]
    },
    {
      "cell_type": "code",
      "metadata": {
        "id": "bIz9ICrk3cjT"
      },
      "source": [
        "Tfidf_vect = TfidfVectorizer(max_features=5000)\n",
        "Tfidf_vect.fit(df1['text'])\n",
        "\n",
        "Train_X_Tfidf = Tfidf_vect.transform(Train_X)\n",
        "Test_X_Tfidf = Tfidf_vect.transform(Test_X)"
      ],
      "execution_count": null,
      "outputs": []
    },
    {
      "cell_type": "code",
      "metadata": {
        "id": "U7oQcwL3EIMd"
      },
      "source": [
        "print(Train_X_Tfidf)"
      ],
      "execution_count": null,
      "outputs": []
    },
    {
      "cell_type": "markdown",
      "metadata": {
        "id": "hmedDquJTcsK"
      },
      "source": [
        "**NAIVE BAYES MODEL:**"
      ]
    },
    {
      "cell_type": "code",
      "metadata": {
        "id": "0dSjj1Z_fO7D"
      },
      "source": [
        "Naive_admk = naive_bayes.MultinomialNB()\n",
        "Naive_admk.fit(Train_X_Tfidf,Train_Y)\n",
        "predictions_NB = Naive_admk.predict(Test_X_Tfidf)"
      ],
      "execution_count": null,
      "outputs": []
    },
    {
      "cell_type": "code",
      "metadata": {
        "colab": {
          "base_uri": "https://localhost:8080/"
        },
        "id": "tjIMQ2ELfSMn",
        "outputId": "43a870f7-e6c9-4d96-8f9a-acef74530d60"
      },
      "source": [
        "print(\"Naive Bayes for ADMK :  Accuracy Score -> \",accuracy_score(predictions_NB, Test_Y)*100)"
      ],
      "execution_count": null,
      "outputs": [
        {
          "output_type": "stream",
          "text": [
            "Naive Bayes for ADMK :  Accuracy Score ->  62.16216216216216\n"
          ],
          "name": "stdout"
        }
      ]
    },
    {
      "cell_type": "markdown",
      "metadata": {
        "id": "qkSRFve0T3wH"
      },
      "source": [
        "**CLASSFICATION METRICS FOR NAIVE BAYES**"
      ]
    },
    {
      "cell_type": "code",
      "metadata": {
        "colab": {
          "base_uri": "https://localhost:8080/"
        },
        "id": "VdgA51i2T2oB",
        "outputId": "794dc1ac-cdcb-4a3b-b502-e16dba8d420f"
      },
      "source": [
        "print(metrics.classification_report(predictions_NB, Test_Y))"
      ],
      "execution_count": null,
      "outputs": [
        {
          "output_type": "stream",
          "text": [
            "              precision    recall  f1-score   support\n",
            "\n",
            "           0       0.46      0.72      0.56        25\n",
            "           1       0.80      0.57      0.67        49\n",
            "\n",
            "    accuracy                           0.62        74\n",
            "   macro avg       0.63      0.65      0.61        74\n",
            "weighted avg       0.69      0.62      0.63        74\n",
            "\n"
          ],
          "name": "stdout"
        }
      ]
    },
    {
      "cell_type": "code",
      "metadata": {
        "colab": {
          "base_uri": "https://localhost:8080/"
        },
        "id": "qVN-xOZZUErH",
        "outputId": "d8d24bbd-8d25-4fff-acbb-1a58eccfd0cd"
      },
      "source": [
        "print(metrics.confusion_matrix(predictions_NB, Test_Y))"
      ],
      "execution_count": null,
      "outputs": [
        {
          "output_type": "stream",
          "text": [
            "[[18  7]\n",
            " [21 28]]\n"
          ],
          "name": "stdout"
        }
      ]
    },
    {
      "cell_type": "code",
      "metadata": {
        "colab": {
          "base_uri": "https://localhost:8080/"
        },
        "id": "sNKOwlDcLUHX",
        "outputId": "5cfb0829-270f-44a5-a83f-0f27bb13ee83"
      },
      "source": [
        "metrics.roc_auc_score(predictions_NB,Test_Y)"
      ],
      "execution_count": null,
      "outputs": [
        {
          "output_type": "execute_result",
          "data": {
            "text/plain": [
              "0.6457142857142857"
            ]
          },
          "metadata": {
            "tags": []
          },
          "execution_count": 27
        }
      ]
    },
    {
      "cell_type": "markdown",
      "metadata": {
        "id": "0v9btIECTiZ-"
      },
      "source": [
        "**SUPPORT VECTOR MACHINE**"
      ]
    },
    {
      "cell_type": "code",
      "metadata": {
        "colab": {
          "base_uri": "https://localhost:8080/"
        },
        "id": "aiJ3jQDIfYIR",
        "outputId": "cef7001a-1a3d-4d64-93dd-57a9c562eead"
      },
      "source": [
        "SVM = svm.SVC(C=1.0, kernel='linear', degree=3, gamma='auto')\n",
        "SVM.fit(Train_X_Tfidf,Train_Y)\n"
      ],
      "execution_count": null,
      "outputs": [
        {
          "output_type": "execute_result",
          "data": {
            "text/plain": [
              "SVC(C=1.0, break_ties=False, cache_size=200, class_weight=None, coef0=0.0,\n",
              "    decision_function_shape='ovr', degree=3, gamma='auto', kernel='linear',\n",
              "    max_iter=-1, probability=False, random_state=None, shrinking=True,\n",
              "    tol=0.001, verbose=False)"
            ]
          },
          "metadata": {
            "tags": []
          },
          "execution_count": 28
        }
      ]
    },
    {
      "cell_type": "markdown",
      "metadata": {
        "id": "p3LrCK5UAf3N"
      },
      "source": [
        "**PREDICTIONS**"
      ]
    },
    {
      "cell_type": "code",
      "metadata": {
        "id": "wr37xgy8AS7A"
      },
      "source": [
        "predictions_SVM = SVM.predict(Test_X_Tfidf )\n"
      ],
      "execution_count": null,
      "outputs": []
    },
    {
      "cell_type": "markdown",
      "metadata": {
        "id": "aqYxl3_rAdC8"
      },
      "source": [
        "**ACCURACY**"
      ]
    },
    {
      "cell_type": "code",
      "metadata": {
        "colab": {
          "base_uri": "https://localhost:8080/"
        },
        "id": "ck5M7o3nAXWS",
        "outputId": "d05846f4-9c27-41d5-e462-f36ab7311aa5"
      },
      "source": [
        "print(\"SVM Accuracy Score -> \",accuracy_score(predictions_SVM, Test_Y)*100)"
      ],
      "execution_count": null,
      "outputs": [
        {
          "output_type": "stream",
          "text": [
            "SVM Accuracy Score ->  60.810810810810814\n"
          ],
          "name": "stdout"
        }
      ]
    },
    {
      "cell_type": "markdown",
      "metadata": {
        "id": "6G_TUgZrTpK-"
      },
      "source": [
        "**CLASSIFICATION METRICS OF SVM**"
      ]
    },
    {
      "cell_type": "code",
      "metadata": {
        "colab": {
          "base_uri": "https://localhost:8080/"
        },
        "id": "oxgbgsLOavog",
        "outputId": "8ab35c77-15f6-44b9-d65c-6fc564119d2c"
      },
      "source": [
        "\n",
        "print(metrics.classification_report(predictions_SVM, Test_Y))"
      ],
      "execution_count": null,
      "outputs": [
        {
          "output_type": "stream",
          "text": [
            "              precision    recall  f1-score   support\n",
            "\n",
            "           0       0.62      0.63      0.62        38\n",
            "           1       0.60      0.58      0.59        36\n",
            "\n",
            "    accuracy                           0.61        74\n",
            "   macro avg       0.61      0.61      0.61        74\n",
            "weighted avg       0.61      0.61      0.61        74\n",
            "\n"
          ],
          "name": "stdout"
        }
      ]
    },
    {
      "cell_type": "code",
      "metadata": {
        "colab": {
          "base_uri": "https://localhost:8080/"
        },
        "id": "wkOSuxYmbPuH",
        "outputId": "76f5b692-be93-48af-fec1-8048fc518081"
      },
      "source": [
        "print(metrics.confusion_matrix(predictions_SVM, Test_Y))"
      ],
      "execution_count": null,
      "outputs": [
        {
          "output_type": "stream",
          "text": [
            "[[24 14]\n",
            " [15 21]]\n"
          ],
          "name": "stdout"
        }
      ]
    },
    {
      "cell_type": "code",
      "metadata": {
        "colab": {
          "base_uri": "https://localhost:8080/"
        },
        "id": "ngIyTOb1Ifrh",
        "outputId": "97089e50-ca8a-4d09-fb0d-a4ae58f436a1"
      },
      "source": [
        "metrics.roc_auc_score(predictions_SVM,Test_Y)"
      ],
      "execution_count": null,
      "outputs": [
        {
          "output_type": "execute_result",
          "data": {
            "text/plain": [
              "0.6074561403508771"
            ]
          },
          "metadata": {
            "tags": []
          },
          "execution_count": 33
        }
      ]
    },
    {
      "cell_type": "markdown",
      "metadata": {
        "id": "CoWX9eEqUVpL"
      },
      "source": [
        "**AIADMK TESTING**"
      ]
    },
    {
      "cell_type": "markdown",
      "metadata": {
        "id": "40jR82UWUjZt"
      },
      "source": [
        "**IMPORT THE DATA**"
      ]
    },
    {
      "cell_type": "code",
      "metadata": {
        "colab": {
          "base_uri": "https://localhost:8080/",
          "height": 196
        },
        "id": "kL-CVE31u3m1",
        "outputId": "13568c3f-e974-4b44-be58-e53b8e62a4cb"
      },
      "source": [
        "admk_test=pd.read_csv(\"/content/admk_test.csv\")\n",
        "admk_test.head()"
      ],
      "execution_count": null,
      "outputs": [
        {
          "output_type": "execute_result",
          "data": {
            "text/html": [
              "<div>\n",
              "<style scoped>\n",
              "    .dataframe tbody tr th:only-of-type {\n",
              "        vertical-align: middle;\n",
              "    }\n",
              "\n",
              "    .dataframe tbody tr th {\n",
              "        vertical-align: top;\n",
              "    }\n",
              "\n",
              "    .dataframe thead th {\n",
              "        text-align: right;\n",
              "    }\n",
              "</style>\n",
              "<table border=\"1\" class=\"dataframe\">\n",
              "  <thead>\n",
              "    <tr style=\"text-align: right;\">\n",
              "      <th></th>\n",
              "      <th>text-eng</th>\n",
              "    </tr>\n",
              "  </thead>\n",
              "  <tbody>\n",
              "    <tr>\n",
              "      <th>0</th>\n",
              "      <td>EPS climbing back to the throne</td>\n",
              "    </tr>\n",
              "    <tr>\n",
              "      <th>1</th>\n",
              "      <td>Minister of charge with violating election rul...</td>\n",
              "    </tr>\n",
              "    <tr>\n",
              "      <th>2</th>\n",
              "      <td>Let us all hope that for the sake of TN and In...</td>\n",
              "    </tr>\n",
              "    <tr>\n",
              "      <th>3</th>\n",
              "      <td>Edappadi Palanisamy formed an alliance wit #PM...</td>\n",
              "    </tr>\n",
              "    <tr>\n",
              "      <th>4</th>\n",
              "      <td>The newspaper marketing campaign by all major ...</td>\n",
              "    </tr>\n",
              "  </tbody>\n",
              "</table>\n",
              "</div>"
            ],
            "text/plain": [
              "                                            text-eng\n",
              "0                   EPS climbing back to the throne \n",
              "1  Minister of charge with violating election rul...\n",
              "2  Let us all hope that for the sake of TN and In...\n",
              "3  Edappadi Palanisamy formed an alliance wit #PM...\n",
              "4  The newspaper marketing campaign by all major ..."
            ]
          },
          "metadata": {
            "tags": []
          },
          "execution_count": 34
        }
      ]
    },
    {
      "cell_type": "markdown",
      "metadata": {
        "id": "wIMeybL5UrNu"
      },
      "source": [
        "**PREPROCESSING THE DATA**"
      ]
    },
    {
      "cell_type": "markdown",
      "metadata": {
        "id": "MXxYdvY1UwPs"
      },
      "source": [
        "**UPPER CASE TO LOWER CASE**"
      ]
    },
    {
      "cell_type": "code",
      "metadata": {
        "id": "oezSviGm0dz8"
      },
      "source": [
        "admk_test['text-eng'] = [entry.lower() for entry in admk_test['text-eng']]"
      ],
      "execution_count": null,
      "outputs": []
    },
    {
      "cell_type": "markdown",
      "metadata": {
        "id": "JUFxacEbU4kF"
      },
      "source": [
        "**REMOVE PUNCTUATION**"
      ]
    },
    {
      "cell_type": "code",
      "metadata": {
        "colab": {
          "base_uri": "https://localhost:8080/",
          "height": 137
        },
        "id": "rTrAK0K2yeSC",
        "outputId": "236b1979-7586-4a0d-ed22-7aa26d69d706"
      },
      "source": [
        "admk_test['text-eng'] = admk_test['text-eng'].apply(remove_punctuation)\n",
        "admk_test.head(3)"
      ],
      "execution_count": null,
      "outputs": [
        {
          "output_type": "execute_result",
          "data": {
            "text/html": [
              "<div>\n",
              "<style scoped>\n",
              "    .dataframe tbody tr th:only-of-type {\n",
              "        vertical-align: middle;\n",
              "    }\n",
              "\n",
              "    .dataframe tbody tr th {\n",
              "        vertical-align: top;\n",
              "    }\n",
              "\n",
              "    .dataframe thead th {\n",
              "        text-align: right;\n",
              "    }\n",
              "</style>\n",
              "<table border=\"1\" class=\"dataframe\">\n",
              "  <thead>\n",
              "    <tr style=\"text-align: right;\">\n",
              "      <th></th>\n",
              "      <th>text-eng</th>\n",
              "    </tr>\n",
              "  </thead>\n",
              "  <tbody>\n",
              "    <tr>\n",
              "      <th>0</th>\n",
              "      <td>eps climbing back to the throne</td>\n",
              "    </tr>\n",
              "    <tr>\n",
              "      <th>1</th>\n",
              "      <td>minister of charge with violating election rul...</td>\n",
              "    </tr>\n",
              "    <tr>\n",
              "      <th>2</th>\n",
              "      <td>let us all hope that for the sake of tn and in...</td>\n",
              "    </tr>\n",
              "  </tbody>\n",
              "</table>\n",
              "</div>"
            ],
            "text/plain": [
              "                                            text-eng\n",
              "0                   eps climbing back to the throne \n",
              "1  minister of charge with violating election rul...\n",
              "2  let us all hope that for the sake of tn and in..."
            ]
          },
          "metadata": {
            "tags": []
          },
          "execution_count": 36
        }
      ]
    },
    {
      "cell_type": "markdown",
      "metadata": {
        "id": "odNRjSm-U8tZ"
      },
      "source": [
        "**TOKENIZATION, LEMMATIZATION, STOPWORS REMOVAL**"
      ]
    },
    {
      "cell_type": "code",
      "metadata": {
        "colab": {
          "base_uri": "https://localhost:8080/",
          "height": 196
        },
        "id": "OhIPFl_Mu1rp",
        "outputId": "9a38a6fd-cfd3-4bed-9f79-cd035e8d7fe7"
      },
      "source": [
        "\n",
        "list_tokenized=token.Tokenize(admk_test['text-eng'])\n",
        "#list1=np.array(list1)\n",
        "list_tokenized=token.remove_stopwords(list_tokenized)\n",
        "list_tokenized = token.lemmatization(list_tokenized)\n",
        "data = pd.DataFrame(data=[list_tokenized],index=['text'])\n",
        "data=data.T\n",
        "data.head()"
      ],
      "execution_count": null,
      "outputs": [
        {
          "output_type": "execute_result",
          "data": {
            "text/html": [
              "<div>\n",
              "<style scoped>\n",
              "    .dataframe tbody tr th:only-of-type {\n",
              "        vertical-align: middle;\n",
              "    }\n",
              "\n",
              "    .dataframe tbody tr th {\n",
              "        vertical-align: top;\n",
              "    }\n",
              "\n",
              "    .dataframe thead th {\n",
              "        text-align: right;\n",
              "    }\n",
              "</style>\n",
              "<table border=\"1\" class=\"dataframe\">\n",
              "  <thead>\n",
              "    <tr style=\"text-align: right;\">\n",
              "      <th></th>\n",
              "      <th>text</th>\n",
              "    </tr>\n",
              "  </thead>\n",
              "  <tbody>\n",
              "    <tr>\n",
              "      <th>0</th>\n",
              "      <td>[eps, climbing, back, throne]</td>\n",
              "    </tr>\n",
              "    <tr>\n",
              "      <th>1</th>\n",
              "      <td>[minister, charge, violating, election, rule, ...</td>\n",
              "    </tr>\n",
              "    <tr>\n",
              "      <th>2</th>\n",
              "      <td>[let, u, hope, sake, tn, india, least, tnelect...</td>\n",
              "    </tr>\n",
              "    <tr>\n",
              "      <th>3</th>\n",
              "      <td>[edappadi, palanisamy, formed, alliance, wit, ...</td>\n",
              "    </tr>\n",
              "    <tr>\n",
              "      <th>4</th>\n",
              "      <td>[newspaper, marketing, campaign, major, newspa...</td>\n",
              "    </tr>\n",
              "  </tbody>\n",
              "</table>\n",
              "</div>"
            ],
            "text/plain": [
              "                                                text\n",
              "0                      [eps, climbing, back, throne]\n",
              "1  [minister, charge, violating, election, rule, ...\n",
              "2  [let, u, hope, sake, tn, india, least, tnelect...\n",
              "3  [edappadi, palanisamy, formed, alliance, wit, ...\n",
              "4  [newspaper, marketing, campaign, major, newspa..."
            ]
          },
          "metadata": {
            "tags": []
          },
          "execution_count": 37
        }
      ]
    },
    {
      "cell_type": "code",
      "metadata": {
        "id": "pqUa3qmv5rVD"
      },
      "source": [
        "data1 = data.copy()"
      ],
      "execution_count": null,
      "outputs": []
    },
    {
      "cell_type": "markdown",
      "metadata": {
        "id": "YjHpaMSeVFBJ"
      },
      "source": [
        "**CHANGING THE LIST TO SENTENCE**"
      ]
    },
    {
      "cell_type": "code",
      "metadata": {
        "id": "RG3ImC63xsC-"
      },
      "source": [
        "def to_string2(datacolumn):\n",
        "  for i in range(len(datacolumn)):\n",
        "    datacolumn[i] = ' '.join([str(elem) for elem in datacolumn[i]])\n",
        "   # 3print(datacolumn[i])\n",
        "  return datacolumn \n",
        "\n",
        "data1['text']=to_string2(data1['text'])"
      ],
      "execution_count": null,
      "outputs": []
    },
    {
      "cell_type": "code",
      "metadata": {
        "colab": {
          "base_uri": "https://localhost:8080/",
          "height": 196
        },
        "id": "fW68dYSc4oJv",
        "outputId": "e45aae0c-4631-4074-927a-6a3c4e938cba"
      },
      "source": [
        "data1.head()"
      ],
      "execution_count": null,
      "outputs": [
        {
          "output_type": "execute_result",
          "data": {
            "text/html": [
              "<div>\n",
              "<style scoped>\n",
              "    .dataframe tbody tr th:only-of-type {\n",
              "        vertical-align: middle;\n",
              "    }\n",
              "\n",
              "    .dataframe tbody tr th {\n",
              "        vertical-align: top;\n",
              "    }\n",
              "\n",
              "    .dataframe thead th {\n",
              "        text-align: right;\n",
              "    }\n",
              "</style>\n",
              "<table border=\"1\" class=\"dataframe\">\n",
              "  <thead>\n",
              "    <tr style=\"text-align: right;\">\n",
              "      <th></th>\n",
              "      <th>text</th>\n",
              "    </tr>\n",
              "  </thead>\n",
              "  <tbody>\n",
              "    <tr>\n",
              "      <th>0</th>\n",
              "      <td>eps climbing back throne</td>\n",
              "    </tr>\n",
              "    <tr>\n",
              "      <th>1</th>\n",
              "      <td>minister charge violating election rule espive...</td>\n",
              "    </tr>\n",
              "    <tr>\n",
              "      <th>2</th>\n",
              "      <td>let u hope sake tn india least tnelection2021 ...</td>\n",
              "    </tr>\n",
              "    <tr>\n",
              "      <th>3</th>\n",
              "      <td>edappadi palanisamy formed alliance wit pmk &amp; ...</td>\n",
              "    </tr>\n",
              "    <tr>\n",
              "      <th>4</th>\n",
              "      <td>newspaper marketing campaign major newspaper a...</td>\n",
              "    </tr>\n",
              "  </tbody>\n",
              "</table>\n",
              "</div>"
            ],
            "text/plain": [
              "                                                text\n",
              "0                           eps climbing back throne\n",
              "1  minister charge violating election rule espive...\n",
              "2  let u hope sake tn india least tnelection2021 ...\n",
              "3  edappadi palanisamy formed alliance wit pmk & ...\n",
              "4  newspaper marketing campaign major newspaper a..."
            ]
          },
          "metadata": {
            "tags": []
          },
          "execution_count": 40
        }
      ]
    },
    {
      "cell_type": "markdown",
      "metadata": {
        "id": "mJNXI6WXA9Dh"
      },
      "source": [
        "**VECTORIZATION**"
      ]
    },
    {
      "cell_type": "code",
      "metadata": {
        "id": "Jqc2LVHF4-fz"
      },
      "source": [
        "vectorized_test= Tfidf_vect .transform(data1['text'])"
      ],
      "execution_count": null,
      "outputs": []
    },
    {
      "cell_type": "markdown",
      "metadata": {
        "id": "tf8EtCxKWFMq"
      },
      "source": [
        "**FITTING THE SVM MODEL**"
      ]
    },
    {
      "cell_type": "code",
      "metadata": {
        "id": "_hKTHaHdxr55"
      },
      "source": [
        "predictions_SVM = SVM.predict(vectorized_test)"
      ],
      "execution_count": null,
      "outputs": []
    },
    {
      "cell_type": "markdown",
      "metadata": {
        "id": "gi5DGwcdWIRm"
      },
      "source": [
        "**PREDICTIONS**"
      ]
    },
    {
      "cell_type": "code",
      "metadata": {
        "colab": {
          "base_uri": "https://localhost:8080/"
        },
        "id": "b9ITiaQL7p9E",
        "outputId": "66822089-00e8-4783-967e-2719c7c4916a"
      },
      "source": [
        "predictions_SVM"
      ],
      "execution_count": null,
      "outputs": [
        {
          "output_type": "execute_result",
          "data": {
            "text/plain": [
              "array([1, 0, 0, 1, 1, 0, 1, 0, 0, 0, 0, 0, 0, 0, 0, 0, 0, 0, 1, 0, 0, 0,\n",
              "       0, 0, 0, 1, 0, 0, 1, 1, 0, 0, 1, 1, 1, 1, 0, 1, 0, 1, 1, 0, 0, 1,\n",
              "       0, 1, 1, 0, 1, 0])"
            ]
          },
          "metadata": {
            "tags": []
          },
          "execution_count": 43
        }
      ]
    },
    {
      "cell_type": "markdown",
      "metadata": {
        "id": "m_xGNGO7WN2g"
      },
      "source": [
        "**CONVERTING THE ARRAY INTO DATAFRAME**\n",
        "\n",
        "\n"
      ]
    },
    {
      "cell_type": "code",
      "metadata": {
        "id": "eTJQ6-zG_7t5"
      },
      "source": [
        "my_array = np.array(predictions_SVM)\n",
        "\n",
        "df = pd.DataFrame(my_array, columns = ['Column_A'])\n",
        "\n",
        "#print(df)\n",
        "#print(type(df))"
      ],
      "execution_count": null,
      "outputs": []
    },
    {
      "cell_type": "markdown",
      "metadata": {
        "id": "muqirfRzWY-Z"
      },
      "source": [
        "**visualization**"
      ]
    },
    {
      "cell_type": "code",
      "metadata": {
        "colab": {
          "base_uri": "https://localhost:8080/",
          "height": 350
        },
        "id": "KcaNQVosyvr4",
        "outputId": "142c9661-6cf3-4d4f-d0b0-d525d511a816"
      },
      "source": [
        "sns.countplot(df[\"Column_A\"])"
      ],
      "execution_count": null,
      "outputs": [
        {
          "output_type": "stream",
          "text": [
            "/usr/local/lib/python3.7/dist-packages/seaborn/_decorators.py:43: FutureWarning: Pass the following variable as a keyword arg: x. From version 0.12, the only valid positional argument will be `data`, and passing other arguments without an explicit keyword will result in an error or misinterpretation.\n",
            "  FutureWarning\n"
          ],
          "name": "stderr"
        },
        {
          "output_type": "execute_result",
          "data": {
            "text/plain": [
              "<matplotlib.axes._subplots.AxesSubplot at 0x7f0195944910>"
            ]
          },
          "metadata": {
            "tags": []
          },
          "execution_count": 45
        },
        {
          "output_type": "display_data",
          "data": {
            "image/png": "[encoded data removed]",
            "text/plain": [
              "<Figure size 432x288 with 1 Axes>"
            ]
          },
          "metadata": {
            "tags": [],
            "needs_background": "light"
          }
        }
      ]
    },
    {
      "cell_type": "markdown",
      "metadata": {
        "id": "0O80IHsjWlj0"
      },
      "source": [
        "**FITTING THE NAIVE BAYES MODEL**"
      ]
    },
    {
      "cell_type": "code",
      "metadata": {
        "id": "5PFnOm8Pcece"
      },
      "source": [
        "predictions_NB = Naive_admk.predict(vectorized_test)\n"
      ],
      "execution_count": null,
      "outputs": []
    },
    {
      "cell_type": "markdown",
      "metadata": {
        "id": "GA0yquVGWuQn"
      },
      "source": [
        "**PREDICTIONS**"
      ]
    },
    {
      "cell_type": "code",
      "metadata": {
        "colab": {
          "base_uri": "https://localhost:8080/"
        },
        "id": "TUMrvPJgWtVx",
        "outputId": "c7af3ff3-fdbc-4964-a45b-808e73d17f8d"
      },
      "source": [
        "predictions_NB"
      ],
      "execution_count": null,
      "outputs": [
        {
          "output_type": "execute_result",
          "data": {
            "text/plain": [
              "array([1, 0, 0, 1, 1, 0, 1, 0, 0, 0, 0, 0, 0, 1, 0, 1, 1, 0, 1, 0, 1, 0,\n",
              "       0, 0, 0, 1, 0, 0, 1, 1, 1, 0, 1, 1, 1, 1, 0, 1, 0, 1, 1, 0, 0, 1,\n",
              "       1, 1, 1, 0, 1, 0])"
            ]
          },
          "metadata": {
            "tags": []
          },
          "execution_count": 47
        }
      ]
    },
    {
      "cell_type": "markdown",
      "metadata": {
        "id": "__eBjsxuWwPq"
      },
      "source": [
        "**CONVERTING THE ARRAY INTO DATAFRAME**"
      ]
    },
    {
      "cell_type": "code",
      "metadata": {
        "id": "oBe6LCGGcn13"
      },
      "source": [
        "my_array1 = np.array(predictions_NB)\n",
        "\n",
        "df1 = pd.DataFrame(my_array1, columns = ['admk_pred_1'])\n",
        "\n",
        "#print(df1)\n",
        "#print(type(df1))"
      ],
      "execution_count": null,
      "outputs": []
    },
    {
      "cell_type": "code",
      "metadata": {
        "colab": {
          "base_uri": "https://localhost:8080/"
        },
        "id": "mnVNZsiFc1g3",
        "outputId": "34debc62-299c-4c42-e7bb-bffae0222669"
      },
      "source": [
        "df1['admk_pred_1'].value_counts()"
      ],
      "execution_count": null,
      "outputs": [
        {
          "output_type": "execute_result",
          "data": {
            "text/plain": [
              "1    25\n",
              "0    25\n",
              "Name: admk_pred_1, dtype: int64"
            ]
          },
          "metadata": {
            "tags": []
          },
          "execution_count": 99
        }
      ]
    },
    {
      "cell_type": "markdown",
      "metadata": {
        "id": "VXFUgweJW2fn"
      },
      "source": [
        "**VISUALIZATION**"
      ]
    },
    {
      "cell_type": "code",
      "metadata": {
        "colab": {
          "base_uri": "https://localhost:8080/",
          "height": 350
        },
        "id": "eTFROwJryezF",
        "outputId": "273b8f64-542b-45f2-c502-f92fc43fd5d2"
      },
      "source": [
        "sns.countplot(df1[\"admk_pred_1\"])"
      ],
      "execution_count": null,
      "outputs": [
        {
          "output_type": "stream",
          "text": [
            "/usr/local/lib/python3.7/dist-packages/seaborn/_decorators.py:43: FutureWarning: Pass the following variable as a keyword arg: x. From version 0.12, the only valid positional argument will be `data`, and passing other arguments without an explicit keyword will result in an error or misinterpretation.\n",
            "  FutureWarning\n"
          ],
          "name": "stderr"
        },
        {
          "output_type": "execute_result",
          "data": {
            "text/plain": [
              "<matplotlib.axes._subplots.AxesSubplot at 0x7f01953235d0>"
            ]
          },
          "metadata": {
            "tags": []
          },
          "execution_count": 100
        },
        {
          "output_type": "display_data",
          "data": {
            "image/png": "[encoded data removed]",
            "text/plain": [
              "<Figure size 432x288 with 1 Axes>"
            ]
          },
          "metadata": {
            "tags": [],
            "needs_background": "light"
          }
        }
      ]
    },
    {
      "cell_type": "markdown",
      "metadata": {
        "id": "lJVAJmBJA95w"
      },
      "source": [
        "**DMK DATASET**\n"
      ]
    },
    {
      "cell_type": "markdown",
      "metadata": {
        "id": "ogtS3N-wBxDL"
      },
      "source": [
        "**IMPORTING THE DATASET**"
      ]
    },
    {
      "cell_type": "code",
      "metadata": {
        "colab": {
          "base_uri": "https://localhost:8080/",
          "height": 196
        },
        "id": "T8Ou4fWcBFzm",
        "outputId": "59fe1e8a-18ae-4eda-90ef-b54497b639a4"
      },
      "source": [
        "dmk_data = pd.read_csv(\"/content/dmk.csv\",encoding ='utf-8')\n",
        "dmk_data.head()"
      ],
      "execution_count": null,
      "outputs": [
        {
          "output_type": "execute_result",
          "data": {
            "text/html": [
              "<div>\n",
              "<style scoped>\n",
              "    .dataframe tbody tr th:only-of-type {\n",
              "        vertical-align: middle;\n",
              "    }\n",
              "\n",
              "    .dataframe tbody tr th {\n",
              "        vertical-align: top;\n",
              "    }\n",
              "\n",
              "    .dataframe thead th {\n",
              "        text-align: right;\n",
              "    }\n",
              "</style>\n",
              "<table border=\"1\" class=\"dataframe\">\n",
              "  <thead>\n",
              "    <tr style=\"text-align: right;\">\n",
              "      <th></th>\n",
              "      <th>text</th>\n",
              "      <th>labels</th>\n",
              "    </tr>\n",
              "  </thead>\n",
              "  <tbody>\n",
              "    <tr>\n",
              "      <th>0</th>\n",
              "      <td>\\n\\nAs to preclude the DMK, the AIADMK, the DM...</td>\n",
              "      <td>0</td>\n",
              "    </tr>\n",
              "    <tr>\n",
              "      <th>1</th>\n",
              "      <td>\\n\\nOver the past 10 years, the people dissati...</td>\n",
              "      <td>1</td>\n",
              "    </tr>\n",
              "    <tr>\n",
              "      <th>2</th>\n",
              "      <td>DMK government had to do in Corona\\n\\n</td>\n",
              "      <td>1</td>\n",
              "    </tr>\n",
              "    <tr>\n",
              "      <th>3</th>\n",
              "      <td>The family rule is a war between democracy in ...</td>\n",
              "      <td>0</td>\n",
              "    </tr>\n",
              "    <tr>\n",
              "      <th>4</th>\n",
              "      <td>CNN's AIADMK, the DMK will cenc Ammo. # TNElec...</td>\n",
              "      <td>1</td>\n",
              "    </tr>\n",
              "  </tbody>\n",
              "</table>\n",
              "</div>"
            ],
            "text/plain": [
              "                                                text  labels\n",
              "0  \\n\\nAs to preclude the DMK, the AIADMK, the DM...       0\n",
              "1  \\n\\nOver the past 10 years, the people dissati...       1\n",
              "2             DMK government had to do in Corona\\n\\n       1\n",
              "3  The family rule is a war between democracy in ...       0\n",
              "4  CNN's AIADMK, the DMK will cenc Ammo. # TNElec...       1"
            ]
          },
          "metadata": {
            "tags": []
          },
          "execution_count": 51
        }
      ]
    },
    {
      "cell_type": "markdown",
      "metadata": {
        "id": "lKubMLQ1B0Ta"
      },
      "source": [
        "**WORD CLOUD**"
      ]
    },
    {
      "cell_type": "code",
      "metadata": {
        "colab": {
          "base_uri": "https://localhost:8080/",
          "height": 198
        },
        "id": "WGvzTOCm_s-t",
        "outputId": "6ea6488f-349b-403d-9820-56b241607802"
      },
      "source": [
        "dmk_data1  = open('/content/dmk.txt','r').read()\n",
        "text=dmk_data1\n",
        "wordcloud = WordCloud(max_font_size=50, max_words=100, background_color=\"white\").generate(text)\n",
        "plt.figure()\n",
        "plt.imshow(wordcloud, interpolation=\"bilinear\")\n",
        "plt.axis(\"off\")\n",
        "plt.show()"
      ],
      "execution_count": null,
      "outputs": [
        {
          "output_type": "display_data",
          "data": {
            "image/png": "[encoded data removed]",
            "text/plain": [
              "<Figure size 432x288 with 1 Axes>"
            ]
          },
          "metadata": {
            "tags": [],
            "needs_background": "light"
          }
        }
      ]
    },
    {
      "cell_type": "markdown",
      "metadata": {
        "id": "TTbSmmgjB9Hj"
      },
      "source": [
        "**DROPING THE EMPTY ROWS**"
      ]
    },
    {
      "cell_type": "code",
      "metadata": {
        "id": "xJ8i2CuyBgJy"
      },
      "source": [
        "dmk_data['text'].dropna(inplace=True)"
      ],
      "execution_count": null,
      "outputs": []
    },
    {
      "cell_type": "markdown",
      "metadata": {
        "id": "Qrep7_o0CEEg"
      },
      "source": [
        "**CHANGING FORM UPPERCASE TO LOWER CASE**"
      ]
    },
    {
      "cell_type": "code",
      "metadata": {
        "id": "nbBjSZC0BoxU"
      },
      "source": [
        "dmk_data['text'] = [entry.lower() for entry in dmk_data['text']]"
      ],
      "execution_count": null,
      "outputs": []
    },
    {
      "cell_type": "markdown",
      "metadata": {
        "id": "tjmAbu1gCMRk"
      },
      "source": [
        "**REMOVING PUNCTUATION**"
      ]
    },
    {
      "cell_type": "code",
      "metadata": {
        "colab": {
          "base_uri": "https://localhost:8080/",
          "height": 137
        },
        "id": "cM9qpn-rBuJt",
        "outputId": "5c2e41b6-5391-4c58-9b3f-d0a599e114f2"
      },
      "source": [
        "dmk_data['text'] = dmk_data['text'].apply(remove_punctuation)\n",
        "dmk_data.head(3)"
      ],
      "execution_count": null,
      "outputs": [
        {
          "output_type": "execute_result",
          "data": {
            "text/html": [
              "<div>\n",
              "<style scoped>\n",
              "    .dataframe tbody tr th:only-of-type {\n",
              "        vertical-align: middle;\n",
              "    }\n",
              "\n",
              "    .dataframe tbody tr th {\n",
              "        vertical-align: top;\n",
              "    }\n",
              "\n",
              "    .dataframe thead th {\n",
              "        text-align: right;\n",
              "    }\n",
              "</style>\n",
              "<table border=\"1\" class=\"dataframe\">\n",
              "  <thead>\n",
              "    <tr style=\"text-align: right;\">\n",
              "      <th></th>\n",
              "      <th>text</th>\n",
              "      <th>labels</th>\n",
              "    </tr>\n",
              "  </thead>\n",
              "  <tbody>\n",
              "    <tr>\n",
              "      <th>0</th>\n",
              "      <td>as to preclude the dmk the aiadmk the dmk and ...</td>\n",
              "      <td>0</td>\n",
              "    </tr>\n",
              "    <tr>\n",
              "      <th>1</th>\n",
              "      <td>over the past 10 years the people dissatisfied...</td>\n",
              "      <td>1</td>\n",
              "    </tr>\n",
              "    <tr>\n",
              "      <th>2</th>\n",
              "      <td>dmk government had to do in corona</td>\n",
              "      <td>1</td>\n",
              "    </tr>\n",
              "  </tbody>\n",
              "</table>\n",
              "</div>"
            ],
            "text/plain": [
              "                                                text  labels\n",
              "0  as to preclude the dmk the aiadmk the dmk and ...       0\n",
              "1  over the past 10 years the people dissatisfied...       1\n",
              "2                 dmk government had to do in corona       1"
            ]
          },
          "metadata": {
            "tags": []
          },
          "execution_count": 55
        }
      ]
    },
    {
      "cell_type": "markdown",
      "metadata": {
        "id": "pm5yauE9CTfS"
      },
      "source": [
        "**TOKENIZATION,LEMMATIZATION ,REMOVING STOPWORDS**"
      ]
    },
    {
      "cell_type": "code",
      "metadata": {
        "colab": {
          "base_uri": "https://localhost:8080/",
          "height": 196
        },
        "id": "hnW84p0HB4fQ",
        "outputId": "d8925893-4b9d-40c1-cf5d-2f72b2e4e940"
      },
      "source": [
        "list_tokenized1=token.Tokenize(dmk_data['text'])\n",
        "#list1=np.array(list1)\n",
        "list_tokenized1=token.remove_stopwords(list_tokenized1)\n",
        "list_tokenized1 = token.lemmatization(list_tokenized1)\n",
        "df_dmk = pd.DataFrame(data=[list_tokenized1],index=['text'])\n",
        "df_dmk=df_dmk.T\n",
        "df_dmk.head()"
      ],
      "execution_count": null,
      "outputs": [
        {
          "output_type": "execute_result",
          "data": {
            "text/html": [
              "<div>\n",
              "<style scoped>\n",
              "    .dataframe tbody tr th:only-of-type {\n",
              "        vertical-align: middle;\n",
              "    }\n",
              "\n",
              "    .dataframe tbody tr th {\n",
              "        vertical-align: top;\n",
              "    }\n",
              "\n",
              "    .dataframe thead th {\n",
              "        text-align: right;\n",
              "    }\n",
              "</style>\n",
              "<table border=\"1\" class=\"dataframe\">\n",
              "  <thead>\n",
              "    <tr style=\"text-align: right;\">\n",
              "      <th></th>\n",
              "      <th>text</th>\n",
              "    </tr>\n",
              "  </thead>\n",
              "  <tbody>\n",
              "    <tr>\n",
              "      <th>0</th>\n",
              "      <td>[preclude, dmk, aiadmk, dmk, aiadmk, preclude,...</td>\n",
              "    </tr>\n",
              "    <tr>\n",
              "      <th>1</th>\n",
              "      <td>[past, 10, year, people, dissatisfied, rule, a...</td>\n",
              "    </tr>\n",
              "    <tr>\n",
              "      <th>2</th>\n",
              "      <td>[dmk, government, corona]</td>\n",
              "    </tr>\n",
              "    <tr>\n",
              "      <th>3</th>\n",
              "      <td>[family, rule, war, democracy, election, tamil...</td>\n",
              "    </tr>\n",
              "    <tr>\n",
              "      <th>4</th>\n",
              "      <td>[cnn, 's, aiadmk, dmk, will, cenc, ammo, tnele...</td>\n",
              "    </tr>\n",
              "  </tbody>\n",
              "</table>\n",
              "</div>"
            ],
            "text/plain": [
              "                                                text\n",
              "0  [preclude, dmk, aiadmk, dmk, aiadmk, preclude,...\n",
              "1  [past, 10, year, people, dissatisfied, rule, a...\n",
              "2                          [dmk, government, corona]\n",
              "3  [family, rule, war, democracy, election, tamil...\n",
              "4  [cnn, 's, aiadmk, dmk, will, cenc, ammo, tnele..."
            ]
          },
          "metadata": {
            "tags": []
          },
          "execution_count": 56
        }
      ]
    },
    {
      "cell_type": "code",
      "metadata": {
        "id": "NSuaKzbQCuG3"
      },
      "source": [
        "df_dmk1 = df_dmk.copy()"
      ],
      "execution_count": null,
      "outputs": []
    },
    {
      "cell_type": "markdown",
      "metadata": {
        "id": "i7ZCkycDCgfg"
      },
      "source": [
        "**DATA VISUALIZATION**"
      ]
    },
    {
      "cell_type": "code",
      "metadata": {
        "colab": {
          "base_uri": "https://localhost:8080/",
          "height": 352
        },
        "id": "rAPyTVj62XMD",
        "outputId": "9e3a8dc7-30ab-4962-ca67-ccfb9bc39f5f"
      },
      "source": [
        "sns.countplot(dmk_data[\"labels\"])"
      ],
      "execution_count": null,
      "outputs": [
        {
          "output_type": "stream",
          "text": [
            "/usr/local/lib/python3.7/dist-packages/seaborn/_decorators.py:43: FutureWarning: Pass the following variable as a keyword arg: x. From version 0.12, the only valid positional argument will be `data`, and passing other arguments without an explicit keyword will result in an error or misinterpretation.\n",
            "  FutureWarning\n"
          ],
          "name": "stderr"
        },
        {
          "output_type": "execute_result",
          "data": {
            "text/plain": [
              "<matplotlib.axes._subplots.AxesSubplot at 0x7f0195803690>"
            ]
          },
          "metadata": {
            "tags": []
          },
          "execution_count": 58
        },
        {
          "output_type": "display_data",
          "data": {
            "image/png": "[encoded data removed]",
            "text/plain": [
              "<Figure size 432x288 with 1 Axes>"
            ]
          },
          "metadata": {
            "tags": [],
            "needs_background": "light"
          }
        }
      ]
    },
    {
      "cell_type": "code",
      "metadata": {
        "colab": {
          "base_uri": "https://localhost:8080/",
          "height": 196
        },
        "id": "CGYYyPWwChW0",
        "outputId": "e408d604-12c1-417f-c00d-eda99f9766db"
      },
      "source": [
        "dmk_data.head()"
      ],
      "execution_count": null,
      "outputs": [
        {
          "output_type": "execute_result",
          "data": {
            "text/html": [
              "<div>\n",
              "<style scoped>\n",
              "    .dataframe tbody tr th:only-of-type {\n",
              "        vertical-align: middle;\n",
              "    }\n",
              "\n",
              "    .dataframe tbody tr th {\n",
              "        vertical-align: top;\n",
              "    }\n",
              "\n",
              "    .dataframe thead th {\n",
              "        text-align: right;\n",
              "    }\n",
              "</style>\n",
              "<table border=\"1\" class=\"dataframe\">\n",
              "  <thead>\n",
              "    <tr style=\"text-align: right;\">\n",
              "      <th></th>\n",
              "      <th>text</th>\n",
              "      <th>labels</th>\n",
              "    </tr>\n",
              "  </thead>\n",
              "  <tbody>\n",
              "    <tr>\n",
              "      <th>0</th>\n",
              "      <td>as to preclude the dmk the aiadmk the dmk and ...</td>\n",
              "      <td>0</td>\n",
              "    </tr>\n",
              "    <tr>\n",
              "      <th>1</th>\n",
              "      <td>over the past 10 years the people dissatisfied...</td>\n",
              "      <td>1</td>\n",
              "    </tr>\n",
              "    <tr>\n",
              "      <th>2</th>\n",
              "      <td>dmk government had to do in corona</td>\n",
              "      <td>1</td>\n",
              "    </tr>\n",
              "    <tr>\n",
              "      <th>3</th>\n",
              "      <td>the family rule is a war between democracy in ...</td>\n",
              "      <td>0</td>\n",
              "    </tr>\n",
              "    <tr>\n",
              "      <th>4</th>\n",
              "      <td>cnn's aiadmk the dmk will cenc ammo  tnelectio...</td>\n",
              "      <td>1</td>\n",
              "    </tr>\n",
              "  </tbody>\n",
              "</table>\n",
              "</div>"
            ],
            "text/plain": [
              "                                                text  labels\n",
              "0  as to preclude the dmk the aiadmk the dmk and ...       0\n",
              "1  over the past 10 years the people dissatisfied...       1\n",
              "2                 dmk government had to do in corona       1\n",
              "3  the family rule is a war between democracy in ...       0\n",
              "4  cnn's aiadmk the dmk will cenc ammo  tnelectio...       1"
            ]
          },
          "metadata": {
            "tags": []
          },
          "execution_count": 59
        }
      ]
    },
    {
      "cell_type": "markdown",
      "metadata": {
        "id": "_R2hIJ2CDAlL"
      },
      "source": [
        "**CHANGING LIST TO SENTENCE**"
      ]
    },
    {
      "cell_type": "code",
      "metadata": {
        "id": "ywVsqYzCDEpZ"
      },
      "source": [
        "df_dmk1['text'] = to_string(df_dmk1['text'])"
      ],
      "execution_count": null,
      "outputs": []
    },
    {
      "cell_type": "code",
      "metadata": {
        "colab": {
          "base_uri": "https://localhost:8080/",
          "height": 196
        },
        "id": "4LO4RY0sDOOU",
        "outputId": "4a78d862-614a-4cd8-f719-171356e46da8"
      },
      "source": [
        "df_dmk1.head()"
      ],
      "execution_count": null,
      "outputs": [
        {
          "output_type": "execute_result",
          "data": {
            "text/html": [
              "<div>\n",
              "<style scoped>\n",
              "    .dataframe tbody tr th:only-of-type {\n",
              "        vertical-align: middle;\n",
              "    }\n",
              "\n",
              "    .dataframe tbody tr th {\n",
              "        vertical-align: top;\n",
              "    }\n",
              "\n",
              "    .dataframe thead th {\n",
              "        text-align: right;\n",
              "    }\n",
              "</style>\n",
              "<table border=\"1\" class=\"dataframe\">\n",
              "  <thead>\n",
              "    <tr style=\"text-align: right;\">\n",
              "      <th></th>\n",
              "      <th>text</th>\n",
              "    </tr>\n",
              "  </thead>\n",
              "  <tbody>\n",
              "    <tr>\n",
              "      <th>0</th>\n",
              "      <td>preclude dmk aiadmk dmk aiadmk preclude people...</td>\n",
              "    </tr>\n",
              "    <tr>\n",
              "      <th>1</th>\n",
              "      <td>past 10 year people dissatisfied rule aiadmk d...</td>\n",
              "    </tr>\n",
              "    <tr>\n",
              "      <th>2</th>\n",
              "      <td>dmk government corona</td>\n",
              "    </tr>\n",
              "    <tr>\n",
              "      <th>3</th>\n",
              "      <td>family rule war democracy election tamil nadu ...</td>\n",
              "    </tr>\n",
              "    <tr>\n",
              "      <th>4</th>\n",
              "      <td>cnn 's aiadmk dmk will cenc ammo tnelection202...</td>\n",
              "    </tr>\n",
              "  </tbody>\n",
              "</table>\n",
              "</div>"
            ],
            "text/plain": [
              "                                                text\n",
              "0  preclude dmk aiadmk dmk aiadmk preclude people...\n",
              "1  past 10 year people dissatisfied rule aiadmk d...\n",
              "2                              dmk government corona\n",
              "3  family rule war democracy election tamil nadu ...\n",
              "4  cnn 's aiadmk dmk will cenc ammo tnelection202..."
            ]
          },
          "metadata": {
            "tags": []
          },
          "execution_count": 61
        }
      ]
    },
    {
      "cell_type": "markdown",
      "metadata": {
        "id": "wqJN9fgmDJXb"
      },
      "source": [
        "**TRAIN TEST SPLIT**"
      ]
    },
    {
      "cell_type": "code",
      "metadata": {
        "id": "Ygt8ORRPDlhp"
      },
      "source": [
        "Train_X, Test_X, Train_Y, Test_Y = model_selection.train_test_split(df_dmk1[\"text\"],dmk_data['labels'],test_size=0.25, random_state=40)"
      ],
      "execution_count": null,
      "outputs": []
    },
    {
      "cell_type": "markdown",
      "metadata": {
        "id": "-moXDPRKDNZu"
      },
      "source": [
        "**VECTORIZATION**"
      ]
    },
    {
      "cell_type": "code",
      "metadata": {
        "id": "x2nrybsD7oMo"
      },
      "source": [
        "Tfidf_vect_dmk= TfidfVectorizer(max_features=5000)\n",
        "Tfidf_vect_dmk.fit(df_dmk1['text'])\n",
        "\n",
        "Train_X_Tfidf = Tfidf_vect_dmk.transform(Train_X)\n",
        "Test_X_Tfidf = Tfidf_vect_dmk.transform(Test_X)"
      ],
      "execution_count": null,
      "outputs": []
    },
    {
      "cell_type": "markdown",
      "metadata": {
        "id": "tiD6v_AyDSBn"
      },
      "source": [
        "**MODEL BUILDING**"
      ]
    },
    {
      "cell_type": "markdown",
      "metadata": {
        "id": "zq1mt49ODYGJ"
      },
      "source": [
        "**NAIVE BAYES**"
      ]
    },
    {
      "cell_type": "code",
      "metadata": {
        "id": "lkrcwRLCDt_B"
      },
      "source": [
        "Naive_dmk = naive_bayes.MultinomialNB()\n",
        "Naive_dmk.fit(Train_X_Tfidf,Train_Y)\n",
        "predictions_NB_dmk = Naive_dmk.predict(Test_X_Tfidf)"
      ],
      "execution_count": null,
      "outputs": []
    },
    {
      "cell_type": "markdown",
      "metadata": {
        "id": "Jj8HNVHODhZc"
      },
      "source": [
        "**ACCURACY**"
      ]
    },
    {
      "cell_type": "code",
      "metadata": {
        "colab": {
          "base_uri": "https://localhost:8080/"
        },
        "id": "RygT7LuyD4XY",
        "outputId": "09d7c41f-5151-479b-e4cd-92cc5494d4d8"
      },
      "source": [
        "print(\"Naive Bayes for DMK :  Accuracy Score:\",accuracy_score(predictions_NB_dmk, Test_Y)*100)"
      ],
      "execution_count": null,
      "outputs": [
        {
          "output_type": "stream",
          "text": [
            "Naive Bayes for DMK :  Accuracy Score: 56.71641791044776\n"
          ],
          "name": "stdout"
        }
      ]
    },
    {
      "cell_type": "markdown",
      "metadata": {
        "id": "Zusym6WGuYk5"
      },
      "source": [
        "**CLASSIFICATION METRICS FOR NAIVE BAYES**"
      ]
    },
    {
      "cell_type": "code",
      "metadata": {
        "colab": {
          "base_uri": "https://localhost:8080/"
        },
        "id": "dezi-NvZueft",
        "outputId": "a4f6dac9-c526-4741-826e-e2936e02051d"
      },
      "source": [
        "metrics.roc_auc_score(predictions_NB_dmk,Test_Y)"
      ],
      "execution_count": null,
      "outputs": [
        {
          "output_type": "execute_result",
          "data": {
            "text/plain": [
              "0.5677361853832442"
            ]
          },
          "metadata": {
            "tags": []
          },
          "execution_count": 66
        }
      ]
    },
    {
      "cell_type": "code",
      "metadata": {
        "colab": {
          "base_uri": "https://localhost:8080/"
        },
        "id": "kkfTomNeujOw",
        "outputId": "35116002-f931-4d50-ee76-1a376789d5b4"
      },
      "source": [
        "print(metrics.classification_report(predictions_NB_dmk, Test_Y))"
      ],
      "execution_count": null,
      "outputs": [
        {
          "output_type": "stream",
          "text": [
            "              precision    recall  f1-score   support\n",
            "\n",
            "           0       0.56      0.61      0.58        33\n",
            "           1       0.58      0.53      0.55        34\n",
            "\n",
            "    accuracy                           0.57        67\n",
            "   macro avg       0.57      0.57      0.57        67\n",
            "weighted avg       0.57      0.57      0.57        67\n",
            "\n"
          ],
          "name": "stdout"
        }
      ]
    },
    {
      "cell_type": "code",
      "metadata": {
        "colab": {
          "base_uri": "https://localhost:8080/"
        },
        "id": "fGXgOkHNunD8",
        "outputId": "7ce53582-b942-4e78-8df2-35695fae0968"
      },
      "source": [
        "print(metrics.confusion_matrix(predictions_NB_dmk, Test_Y))"
      ],
      "execution_count": null,
      "outputs": [
        {
          "output_type": "stream",
          "text": [
            "[[20 13]\n",
            " [16 18]]\n"
          ],
          "name": "stdout"
        }
      ]
    },
    {
      "cell_type": "markdown",
      "metadata": {
        "id": "hFzkXkfEDcw5"
      },
      "source": [
        "**SVM**"
      ]
    },
    {
      "cell_type": "code",
      "metadata": {
        "id": "otRIanXEEBRV"
      },
      "source": [
        "SVM_dmk = svm.SVC(C=2.0, kernel='linear', degree=3, gamma='auto')\n",
        "SVM_dmk.fit(Train_X_Tfidf,Train_Y)\n",
        "predictions_SVM_dmk = SVM_dmk.predict(Test_X_Tfidf)\n"
      ],
      "execution_count": null,
      "outputs": []
    },
    {
      "cell_type": "markdown",
      "metadata": {
        "id": "tnVPKKtNDqSR"
      },
      "source": [
        "**ACCURACY**"
      ]
    },
    {
      "cell_type": "code",
      "metadata": {
        "colab": {
          "base_uri": "https://localhost:8080/"
        },
        "id": "z58yWkD88iCD",
        "outputId": "e4903486-3100-4f6c-c476-5f752994597d"
      },
      "source": [
        "print(\"SVM Accuracy Score -> \",accuracy_score(predictions_SVM_dmk, Test_Y)*100)"
      ],
      "execution_count": null,
      "outputs": [
        {
          "output_type": "stream",
          "text": [
            "SVM Accuracy Score ->  52.23880597014925\n"
          ],
          "name": "stdout"
        }
      ]
    },
    {
      "cell_type": "markdown",
      "metadata": {
        "id": "B2NCNVp-LzsZ"
      },
      "source": [
        "**CLASSIFCATION METRICS FOR SVM**"
      ]
    },
    {
      "cell_type": "code",
      "metadata": {
        "colab": {
          "base_uri": "https://localhost:8080/"
        },
        "id": "wUVoP48PMOC5",
        "outputId": "3733dbaa-25ac-481a-951d-5f60d5cb3e92"
      },
      "source": [
        "print(metrics.classification_report(predictions_SVM_dmk, Test_Y))"
      ],
      "execution_count": null,
      "outputs": [
        {
          "output_type": "stream",
          "text": [
            "              precision    recall  f1-score   support\n",
            "\n",
            "           0       0.67      0.55      0.60        44\n",
            "           1       0.35      0.48      0.41        23\n",
            "\n",
            "    accuracy                           0.52        67\n",
            "   macro avg       0.51      0.51      0.50        67\n",
            "weighted avg       0.56      0.52      0.53        67\n",
            "\n"
          ],
          "name": "stdout"
        }
      ]
    },
    {
      "cell_type": "code",
      "metadata": {
        "colab": {
          "base_uri": "https://localhost:8080/"
        },
        "id": "-crB603-MUFu",
        "outputId": "a96fed5a-1337-4003-ffc2-5c994aa7e737"
      },
      "source": [
        "print(metrics.confusion_matrix(predictions_SVM_dmk, Test_Y))"
      ],
      "execution_count": null,
      "outputs": [
        {
          "output_type": "stream",
          "text": [
            "[[24 20]\n",
            " [12 11]]\n"
          ],
          "name": "stdout"
        }
      ]
    },
    {
      "cell_type": "code",
      "metadata": {
        "colab": {
          "base_uri": "https://localhost:8080/"
        },
        "id": "1pot0FQhMBHY",
        "outputId": "352f69b5-603b-43cc-e5f4-de7f32627f4e"
      },
      "source": [
        "metrics.roc_auc_score(predictions_SVM_dmk,Test_Y)"
      ],
      "execution_count": null,
      "outputs": [
        {
          "output_type": "execute_result",
          "data": {
            "text/plain": [
              "0.5118577075098814"
            ]
          },
          "metadata": {
            "tags": []
          },
          "execution_count": 73
        }
      ]
    },
    {
      "cell_type": "markdown",
      "metadata": {
        "id": "c7xhRo_-UNjh"
      },
      "source": [
        "**DMK TESTING**"
      ]
    },
    {
      "cell_type": "markdown",
      "metadata": {
        "id": "hCXNpzzjEK6o"
      },
      "source": [
        "**IMPORTING THE DATASET**"
      ]
    },
    {
      "cell_type": "code",
      "metadata": {
        "colab": {
          "base_uri": "https://localhost:8080/",
          "height": 196
        },
        "id": "X1aj-tsgUMhA",
        "outputId": "4620e8cd-7e6d-4375-b8ec-0adf9f5d74d8"
      },
      "source": [
        "dmk_test=pd.read_csv(\"/content/dmk_test.csv\")\n",
        "dmk_test.head()"
      ],
      "execution_count": null,
      "outputs": [
        {
          "output_type": "execute_result",
          "data": {
            "text/html": [
              "<div>\n",
              "<style scoped>\n",
              "    .dataframe tbody tr th:only-of-type {\n",
              "        vertical-align: middle;\n",
              "    }\n",
              "\n",
              "    .dataframe tbody tr th {\n",
              "        vertical-align: top;\n",
              "    }\n",
              "\n",
              "    .dataframe thead th {\n",
              "        text-align: right;\n",
              "    }\n",
              "</style>\n",
              "<table border=\"1\" class=\"dataframe\">\n",
              "  <thead>\n",
              "    <tr style=\"text-align: right;\">\n",
              "      <th></th>\n",
              "      <th>text</th>\n",
              "    </tr>\n",
              "  </thead>\n",
              "  <tbody>\n",
              "    <tr>\n",
              "      <th>0</th>\n",
              "      <td>There is diff between DMK leader and lier</td>\n",
              "    </tr>\n",
              "    <tr>\n",
              "      <th>1</th>\n",
              "      <td>If the state kitaikkappokutu dawn to dark utay...</td>\n",
              "    </tr>\n",
              "    <tr>\n",
              "      <th>2</th>\n",
              "      <td>The DMK is sure to lose the election</td>\n",
              "    </tr>\n",
              "    <tr>\n",
              "      <th>3</th>\n",
              "      <td>Thumbs up DMKLosingTN Sureshot These type of T...</td>\n",
              "    </tr>\n",
              "    <tr>\n",
              "      <th>4</th>\n",
              "      <td>DMK party members removed dish tv dish near ce...</td>\n",
              "    </tr>\n",
              "  </tbody>\n",
              "</table>\n",
              "</div>"
            ],
            "text/plain": [
              "                                                text\n",
              "0          There is diff between DMK leader and lier\n",
              "1  If the state kitaikkappokutu dawn to dark utay...\n",
              "2               The DMK is sure to lose the election\n",
              "3  Thumbs up DMKLosingTN Sureshot These type of T...\n",
              "4  DMK party members removed dish tv dish near ce..."
            ]
          },
          "metadata": {
            "tags": []
          },
          "execution_count": 74
        }
      ]
    },
    {
      "cell_type": "markdown",
      "metadata": {
        "id": "jPWs-h0zEOzD"
      },
      "source": [
        "**CHANGING UPPERCASE TO LOWERCASE**"
      ]
    },
    {
      "cell_type": "code",
      "metadata": {
        "id": "2RIl-TzzUVej"
      },
      "source": [
        "dmk_test['text'] = [entry.lower() for entry in dmk_test['text']]"
      ],
      "execution_count": null,
      "outputs": []
    },
    {
      "cell_type": "markdown",
      "metadata": {
        "id": "PYUK0L74ETyn"
      },
      "source": [
        "**REMOVING PUNCTUATION**"
      ]
    },
    {
      "cell_type": "code",
      "metadata": {
        "colab": {
          "base_uri": "https://localhost:8080/",
          "height": 137
        },
        "id": "f_vL4mX4UmgV",
        "outputId": "c7a9823c-2414-4673-88a9-f24fd8910e51"
      },
      "source": [
        "dmk_test['text'] = dmk_test['text'].apply(remove_punctuation)\n",
        "dmk_test.head(3)"
      ],
      "execution_count": null,
      "outputs": [
        {
          "output_type": "execute_result",
          "data": {
            "text/html": [
              "<div>\n",
              "<style scoped>\n",
              "    .dataframe tbody tr th:only-of-type {\n",
              "        vertical-align: middle;\n",
              "    }\n",
              "\n",
              "    .dataframe tbody tr th {\n",
              "        vertical-align: top;\n",
              "    }\n",
              "\n",
              "    .dataframe thead th {\n",
              "        text-align: right;\n",
              "    }\n",
              "</style>\n",
              "<table border=\"1\" class=\"dataframe\">\n",
              "  <thead>\n",
              "    <tr style=\"text-align: right;\">\n",
              "      <th></th>\n",
              "      <th>text</th>\n",
              "    </tr>\n",
              "  </thead>\n",
              "  <tbody>\n",
              "    <tr>\n",
              "      <th>0</th>\n",
              "      <td>there is diff between dmk leader and lier</td>\n",
              "    </tr>\n",
              "    <tr>\n",
              "      <th>1</th>\n",
              "      <td>if the state kitaikkappokutu dawn to dark utay...</td>\n",
              "    </tr>\n",
              "    <tr>\n",
              "      <th>2</th>\n",
              "      <td>the dmk is sure to lose the election</td>\n",
              "    </tr>\n",
              "  </tbody>\n",
              "</table>\n",
              "</div>"
            ],
            "text/plain": [
              "                                                text\n",
              "0          there is diff between dmk leader and lier\n",
              "1  if the state kitaikkappokutu dawn to dark utay...\n",
              "2               the dmk is sure to lose the election"
            ]
          },
          "metadata": {
            "tags": []
          },
          "execution_count": 76
        }
      ]
    },
    {
      "cell_type": "markdown",
      "metadata": {
        "id": "a32-VwgeEczC"
      },
      "source": [
        "**TOKENIZATION,LEMMATIZATION ,REMOVING STOPWORDS**"
      ]
    },
    {
      "cell_type": "code",
      "metadata": {
        "colab": {
          "base_uri": "https://localhost:8080/",
          "height": 196
        },
        "id": "NBho5AifU0Of",
        "outputId": "0178e914-f88f-4b87-9901-ff24f6298174"
      },
      "source": [
        "list_tokenized2=token.Tokenize(dmk_test['text'])\n",
        "#list1=np.array(list1)\n",
        "list_tokenized2=token.remove_stopwords(list_tokenized2)\n",
        "list_tokenized2 = token.lemmatization(list_tokenized2)\n",
        "df_data_test = pd.DataFrame(data=[list_tokenized2],index=['text'])\n",
        "df_data_test=df_data_test.T\n",
        "df_data_test.head()"
      ],
      "execution_count": null,
      "outputs": [
        {
          "output_type": "execute_result",
          "data": {
            "text/html": [
              "<div>\n",
              "<style scoped>\n",
              "    .dataframe tbody tr th:only-of-type {\n",
              "        vertical-align: middle;\n",
              "    }\n",
              "\n",
              "    .dataframe tbody tr th {\n",
              "        vertical-align: top;\n",
              "    }\n",
              "\n",
              "    .dataframe thead th {\n",
              "        text-align: right;\n",
              "    }\n",
              "</style>\n",
              "<table border=\"1\" class=\"dataframe\">\n",
              "  <thead>\n",
              "    <tr style=\"text-align: right;\">\n",
              "      <th></th>\n",
              "      <th>text</th>\n",
              "    </tr>\n",
              "  </thead>\n",
              "  <tbody>\n",
              "    <tr>\n",
              "      <th>0</th>\n",
              "      <td>[diff, dmk, leader, lier]</td>\n",
              "    </tr>\n",
              "    <tr>\n",
              "      <th>1</th>\n",
              "      <td>[state, kitaikkappokutu, dawn, dark, utayacuri...</td>\n",
              "    </tr>\n",
              "    <tr>\n",
              "      <th>2</th>\n",
              "      <td>[dmk, sure, lose, election]</td>\n",
              "    </tr>\n",
              "    <tr>\n",
              "      <th>3</th>\n",
              "      <td>[thumb, dmklosingtn, sureshot, type, tamilnadu...</td>\n",
              "    </tr>\n",
              "    <tr>\n",
              "      <th>4</th>\n",
              "      <td>[dmk, party, member, removed, dish, tv, dish, ...</td>\n",
              "    </tr>\n",
              "  </tbody>\n",
              "</table>\n",
              "</div>"
            ],
            "text/plain": [
              "                                                text\n",
              "0                          [diff, dmk, leader, lier]\n",
              "1  [state, kitaikkappokutu, dawn, dark, utayacuri...\n",
              "2                        [dmk, sure, lose, election]\n",
              "3  [thumb, dmklosingtn, sureshot, type, tamilnadu...\n",
              "4  [dmk, party, member, removed, dish, tv, dish, ..."
            ]
          },
          "metadata": {
            "tags": []
          },
          "execution_count": 77
        }
      ]
    },
    {
      "cell_type": "code",
      "metadata": {
        "id": "t1igRL3fVNsf"
      },
      "source": [
        "df_data_test1 = df_data_test.copy()"
      ],
      "execution_count": null,
      "outputs": []
    },
    {
      "cell_type": "markdown",
      "metadata": {
        "id": "OefgbtfREfrd"
      },
      "source": [
        "**CHANGING LIST TO SENTENCE**"
      ]
    },
    {
      "cell_type": "code",
      "metadata": {
        "id": "LYLiK1syVYid"
      },
      "source": [
        "df_data_test1['text']=to_string2(df_data_test1['text'])"
      ],
      "execution_count": null,
      "outputs": []
    },
    {
      "cell_type": "markdown",
      "metadata": {
        "id": "u1XV62ycErv2"
      },
      "source": [
        "**VECTORIZATION**"
      ]
    },
    {
      "cell_type": "code",
      "metadata": {
        "id": "VXcNnyp19BhF"
      },
      "source": [
        "vectorized_dmk= Tfidf_vect_dmk.transform(df_data_test1['text'])\n"
      ],
      "execution_count": null,
      "outputs": []
    },
    {
      "cell_type": "markdown",
      "metadata": {
        "id": "jj-kY6L3Ev7j"
      },
      "source": [
        "**SVM MODEL PREDICTION**"
      ]
    },
    {
      "cell_type": "code",
      "metadata": {
        "id": "OM7C3u21dYfC"
      },
      "source": [
        "predictions_SVM_dmk = SVM_dmk.predict(vectorized_dmk)\n"
      ],
      "execution_count": null,
      "outputs": []
    },
    {
      "cell_type": "code",
      "metadata": {
        "colab": {
          "base_uri": "https://localhost:8080/"
        },
        "id": "qoEdrwFIf_dI",
        "outputId": "17da0e20-c26a-4136-f14d-578ae342869d"
      },
      "source": [
        "predictions_SVM_dmk"
      ],
      "execution_count": null,
      "outputs": [
        {
          "output_type": "execute_result",
          "data": {
            "text/plain": [
              "array([0, 1, 0, 0, 0, 1, 1, 0, 1, 0, 0, 1, 1, 0, 1, 0, 0, 0, 0, 0, 0, 1,\n",
              "       0, 0, 0, 0, 0, 1, 0, 0, 0, 0, 0, 0, 1, 1, 1, 1, 1, 0, 1, 1, 1, 0,\n",
              "       1, 1, 0, 0, 1, 1])"
            ]
          },
          "metadata": {
            "tags": []
          },
          "execution_count": 82
        }
      ]
    },
    {
      "cell_type": "markdown",
      "metadata": {
        "id": "STzUIc_oFFt1"
      },
      "source": [
        "**CHANGING FROM ARRAY TO DATAFRAME**"
      ]
    },
    {
      "cell_type": "code",
      "metadata": {
        "id": "dlvgZbAjgHmw"
      },
      "source": [
        "my_array = np.array(predictions_SVM)\n",
        "\n",
        "df3 = pd.DataFrame(my_array, columns = ['dmk_pred'])\n",
        "\n",
        "#print(df3)\n",
        "#print(type(df3))"
      ],
      "execution_count": null,
      "outputs": []
    },
    {
      "cell_type": "code",
      "metadata": {
        "colab": {
          "base_uri": "https://localhost:8080/"
        },
        "id": "sfI94cbxjQz7",
        "outputId": "9fffccfe-c857-4b12-896f-6e663fbe2bd1"
      },
      "source": [
        "df3['dmk_pred'].value_counts()"
      ],
      "execution_count": null,
      "outputs": [
        {
          "output_type": "execute_result",
          "data": {
            "text/plain": [
              "0    31\n",
              "1    19\n",
              "Name: dmk_pred, dtype: int64"
            ]
          },
          "metadata": {
            "tags": []
          },
          "execution_count": 84
        }
      ]
    },
    {
      "cell_type": "markdown",
      "metadata": {
        "id": "UhOINrG-FKOD"
      },
      "source": [
        "**VISUALIZATION**"
      ]
    },
    {
      "cell_type": "code",
      "metadata": {
        "colab": {
          "base_uri": "https://localhost:8080/",
          "height": 350
        },
        "id": "RB6zA8nE2vIb",
        "outputId": "9c90c89b-7360-4eaa-b1b8-ee130b98a244"
      },
      "source": [
        "sns.countplot(df3['dmk_pred'])"
      ],
      "execution_count": null,
      "outputs": [
        {
          "output_type": "stream",
          "text": [
            "/usr/local/lib/python3.7/dist-packages/seaborn/_decorators.py:43: FutureWarning: Pass the following variable as a keyword arg: x. From version 0.12, the only valid positional argument will be `data`, and passing other arguments without an explicit keyword will result in an error or misinterpretation.\n",
            "  FutureWarning\n"
          ],
          "name": "stderr"
        },
        {
          "output_type": "execute_result",
          "data": {
            "text/plain": [
              "<matplotlib.axes._subplots.AxesSubplot at 0x7f01957d9fd0>"
            ]
          },
          "metadata": {
            "tags": []
          },
          "execution_count": 85
        },
        {
          "output_type": "display_data",
          "data": {
            "image/png": "[encoded data removed]",
            "text/plain": [
              "<Figure size 432x288 with 1 Axes>"
            ]
          },
          "metadata": {
            "tags": [],
            "needs_background": "light"
          }
        }
      ]
    },
    {
      "cell_type": "markdown",
      "metadata": {
        "id": "ssWe6cd4FOKr"
      },
      "source": [
        "**PREDICTION FOR NAIVE BAYES MODEL**"
      ]
    },
    {
      "cell_type": "code",
      "metadata": {
        "id": "Lism6EtBjulD"
      },
      "source": [
        "predictions_NB_dmk = Naive_dmk.predict(vectorized_dmk)\n"
      ],
      "execution_count": null,
      "outputs": []
    },
    {
      "cell_type": "code",
      "metadata": {
        "colab": {
          "base_uri": "https://localhost:8080/"
        },
        "id": "hfbazfLz-2cT",
        "outputId": "006f659d-ba3b-4383-bd1d-4e30d7ec56b1"
      },
      "source": [
        "predictions_NB_dmk"
      ],
      "execution_count": null,
      "outputs": [
        {
          "output_type": "execute_result",
          "data": {
            "text/plain": [
              "array([1, 1, 0, 1, 0, 1, 1, 0, 1, 0, 1, 1, 1, 0, 1, 0, 0, 0, 0, 0, 0, 1,\n",
              "       0, 0, 0, 1, 0, 0, 0, 0, 0, 0, 1, 0, 1, 1, 1, 1, 1, 1, 1, 1, 1, 1,\n",
              "       1, 1, 1, 0, 1, 1])"
            ]
          },
          "metadata": {
            "tags": []
          },
          "execution_count": 87
        }
      ]
    },
    {
      "cell_type": "markdown",
      "metadata": {
        "id": "o3JMmP72FS5H"
      },
      "source": [
        "**CHANGING FROM ARRAY TO DATAFRAME**"
      ]
    },
    {
      "cell_type": "code",
      "metadata": {
        "id": "sdqNVh5mj33u"
      },
      "source": [
        "my_array1= np.array(predictions_NB_dmk)\n",
        "\n",
        "df4 = pd.DataFrame(my_array1, columns = ['dmk_pred_1'])\n",
        "\n",
        "#print(df4)\n",
        "#print(type(df4))"
      ],
      "execution_count": null,
      "outputs": []
    },
    {
      "cell_type": "code",
      "metadata": {
        "colab": {
          "base_uri": "https://localhost:8080/"
        },
        "id": "wrfoKeutkENg",
        "outputId": "7ed56459-3833-4521-84bd-175c96278d57"
      },
      "source": [
        "df4['dmk_pred_1'].value_counts()"
      ],
      "execution_count": null,
      "outputs": [
        {
          "output_type": "execute_result",
          "data": {
            "text/plain": [
              "1    28\n",
              "0    22\n",
              "Name: dmk_pred_1, dtype: int64"
            ]
          },
          "metadata": {
            "tags": []
          },
          "execution_count": 94
        }
      ]
    },
    {
      "cell_type": "markdown",
      "metadata": {
        "id": "WUVYC-MzFdwz"
      },
      "source": [
        "**VISUALIZATION**"
      ]
    },
    {
      "cell_type": "code",
      "metadata": {
        "colab": {
          "base_uri": "https://localhost:8080/",
          "height": 350
        },
        "id": "FZDrnuIE3G-1",
        "outputId": "45f049e1-a1e6-4295-fac8-45436bedeed8"
      },
      "source": [
        "sns.countplot(df4['dmk_pred_1'])"
      ],
      "execution_count": null,
      "outputs": [
        {
          "output_type": "stream",
          "text": [
            "/usr/local/lib/python3.7/dist-packages/seaborn/_decorators.py:43: FutureWarning: Pass the following variable as a keyword arg: x. From version 0.12, the only valid positional argument will be `data`, and passing other arguments without an explicit keyword will result in an error or misinterpretation.\n",
            "  FutureWarning\n"
          ],
          "name": "stderr"
        },
        {
          "output_type": "execute_result",
          "data": {
            "text/plain": [
              "<matplotlib.axes._subplots.AxesSubplot at 0x7f0195944a90>"
            ]
          },
          "metadata": {
            "tags": []
          },
          "execution_count": 95
        },
        {
          "output_type": "display_data",
          "data": {
            "image/png": "[encoded data removed]",
            "text/plain": [
              "<Figure size 432x288 with 1 Axes>"
            ]
          },
          "metadata": {
            "tags": [],
            "needs_background": "light"
          }
        }
      ]
    },
    {
      "cell_type": "markdown",
      "metadata": {
        "id": "XG0Tkn-4t0u2"
      },
      "source": [
        "**COMPARSION:**"
      ]
    },
    {
      "cell_type": "markdown",
      "metadata": {
        "id": "QpZv9-hxFw_2"
      },
      "source": [
        "**ADMK VS DMK  FOR SVM MODEL**"
      ]
    },
    {
      "cell_type": "code",
      "metadata": {
        "colab": {
          "base_uri": "https://localhost:8080/",
          "height": 367
        },
        "id": "vxn-RY3K803q",
        "outputId": "ca445320-4253-4285-9c85-e6a43679eb8f"
      },
      "source": [
        "fig, ax =plt.subplots(1,2)\n",
        "sns.countplot(df['Column_A'], ax=ax[0])\n",
        "sns.countplot(df3['dmk_pred'], ax=ax[1])\n",
        "fig.show()"
      ],
      "execution_count": null,
      "outputs": [
        {
          "output_type": "stream",
          "text": [
            "/usr/local/lib/python3.7/dist-packages/seaborn/_decorators.py:43: FutureWarning: Pass the following variable as a keyword arg: x. From version 0.12, the only valid positional argument will be `data`, and passing other arguments without an explicit keyword will result in an error or misinterpretation.\n",
            "  FutureWarning\n",
            "/usr/local/lib/python3.7/dist-packages/seaborn/_decorators.py:43: FutureWarning: Pass the following variable as a keyword arg: x. From version 0.12, the only valid positional argument will be `data`, and passing other arguments without an explicit keyword will result in an error or misinterpretation.\n",
            "  FutureWarning\n"
          ],
          "name": "stderr"
        },
        {
          "output_type": "display_data",
          "data": {
            "image/png": "[encoded data removed]",
            "text/plain": [
              "<Figure size 432x288 with 2 Axes>"
            ]
          },
          "metadata": {
            "tags": [],
            "needs_background": "light"
          }
        }
      ]
    },
    {
      "cell_type": "markdown",
      "metadata": {
        "id": "wTSHpCt6F3I4"
      },
      "source": [
        "**ADMK VS DMK  FOR THE  MODEL**"
      ]
    },
    {
      "cell_type": "code",
      "metadata": {
        "colab": {
          "base_uri": "https://localhost:8080/",
          "height": 367
        },
        "id": "XYTuQhJSDgg2",
        "outputId": "03f7cd2a-80c3-4c62-be83-012aea596153"
      },
      "source": [
        "fig, ax =plt.subplots(1,2)\n",
        "sns.countplot(df1['admk_pred_1'], ax=ax[0])\n",
        "sns.countplot(df4['dmk_pred_1'], ax=ax[1])\n",
        "fig.show()"
      ],
      "execution_count": null,
      "outputs": [
        {
          "output_type": "stream",
          "text": [
            "/usr/local/lib/python3.7/dist-packages/seaborn/_decorators.py:43: FutureWarning: Pass the following variable as a keyword arg: x. From version 0.12, the only valid positional argument will be `data`, and passing other arguments without an explicit keyword will result in an error or misinterpretation.\n",
            "  FutureWarning\n",
            "/usr/local/lib/python3.7/dist-packages/seaborn/_decorators.py:43: FutureWarning: Pass the following variable as a keyword arg: x. From version 0.12, the only valid positional argument will be `data`, and passing other arguments without an explicit keyword will result in an error or misinterpretation.\n",
            "  FutureWarning\n"
          ],
          "name": "stderr"
        },
        {
          "output_type": "display_data",
          "data": {
            "image/png": "[encoded data removed]",
            "text/plain": [
              "<Figure size 432x288 with 2 Axes>"
            ]
          },
          "metadata": {
            "tags": [],
            "needs_background": "light"
          }
        }
      ]
    }
  ]
}